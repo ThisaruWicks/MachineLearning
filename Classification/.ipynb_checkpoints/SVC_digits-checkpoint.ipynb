{
 "cells": [
  {
   "cell_type": "code",
   "execution_count": 10,
   "id": "260273cc",
   "metadata": {},
   "outputs": [],
   "source": [
    "from sklearn.datasets import load_digits\n",
    "import matplotlib.pyplot as plt\n",
    "from sklearn.svm import SVC\n",
    "import pandas as pd\n",
    "from sklearn.model_selection import train_test_split\n",
    "from sklearn.metrics import confusion_matrix, ConfusionMatrixDisplay\n",
    "import seaborn as sn\n",
    "from sklearn.metrics import classification_report\n",
    "from sklearn.model_selection import KFold\n",
    "from sklearn.model_selection import StratifiedKFold\n",
    "from statistics import mean\n",
    "from sklearn.model_selection import cross_val_score"
   ]
  },
  {
   "cell_type": "code",
   "execution_count": 11,
   "id": "07445e19",
   "metadata": {},
   "outputs": [],
   "source": [
    "digits = load_digits()\n",
    "x = digits.data\n",
    "y = digits.target"
   ]
  },
  {
   "cell_type": "code",
   "execution_count": 12,
   "id": "325205a2",
   "metadata": {},
   "outputs": [],
   "source": [
    "X_train, X_test, y_train, y_test = train_test_split(x, y, test_size=0.33, random_state=42)"
   ]
  },
  {
   "cell_type": "code",
   "execution_count": 13,
   "id": "45be7fc2",
   "metadata": {},
   "outputs": [],
   "source": [
    "def getScore(model, X_train, y_train, X_test, y_test):\n",
    "    model.fit(X_train, y_train)\n",
    "    return model.score(X_test, y_test)"
   ]
  },
  {
   "cell_type": "code",
   "execution_count": 14,
   "id": "066c2592",
   "metadata": {},
   "outputs": [
    {
     "data": {
      "text/plain": [
       "0.4006734006734007"
      ]
     },
     "execution_count": 14,
     "metadata": {},
     "output_type": "execute_result"
    }
   ],
   "source": [
    "svcR = SVC(kernel='rbf', gamma='auto')\n",
    "svcR.fit(X_train, y_train)\n",
    "getScore(svcR,X_train, y_train, X_test, y_test)"
   ]
  },
  {
   "cell_type": "code",
   "execution_count": 15,
   "id": "832c4911",
   "metadata": {},
   "outputs": [],
   "source": [
    "kf = KFold(n_splits=10)"
   ]
  },
  {
   "cell_type": "code",
   "execution_count": 16,
   "id": "df605143",
   "metadata": {},
   "outputs": [],
   "source": [
    "svcRA = []"
   ]
  },
  {
   "cell_type": "code",
   "execution_count": 17,
   "id": "13c8b7d4",
   "metadata": {},
   "outputs": [],
   "source": [
    "for train_index, test_index in kf.split(x):\n",
    "    x_train, x_test,y_train,y_test = x[train_index],x[test_index],y[train_index],y[test_index]\n",
    "    svcRA.append(getScore(svcR,x_train, y_train, x_test, y_test))"
   ]
  },
  {
   "cell_type": "code",
   "execution_count": 18,
   "id": "65493114",
   "metadata": {},
   "outputs": [
    {
     "data": {
      "text/plain": [
       "0.4652700186219739"
      ]
     },
     "execution_count": 18,
     "metadata": {},
     "output_type": "execute_result"
    }
   ],
   "source": [
    "mean(svcRA)"
   ]
  },
  {
   "cell_type": "code",
   "execution_count": 19,
   "id": "fe63c5e4",
   "metadata": {},
   "outputs": [],
   "source": [
    "skf=StratifiedKFold(n_splits=10, random_state=None, shuffle=False)"
   ]
  },
  {
   "cell_type": "code",
   "execution_count": 20,
   "id": "6800129d",
   "metadata": {},
   "outputs": [],
   "source": [
    "svcRA = []"
   ]
  },
  {
   "cell_type": "code",
   "execution_count": 21,
   "id": "d5e0cfc5",
   "metadata": {},
   "outputs": [],
   "source": [
    "for train_index, test_index in skf.split(x,y):\n",
    "    x_train, x_test,y_train,y_test = x[train_index],x[test_index],y[train_index],y[test_index]\n",
    "    svcRA.append(getScore(svcR,x_train, y_train, x_test, y_test))"
   ]
  },
  {
   "cell_type": "code",
   "execution_count": 22,
   "id": "7ad9e97b",
   "metadata": {},
   "outputs": [
    {
     "data": {
      "text/plain": [
       "0.48198324022346367"
      ]
     },
     "execution_count": 22,
     "metadata": {},
     "output_type": "execute_result"
    }
   ],
   "source": [
    "mean(svcRA)"
   ]
  },
  {
   "cell_type": "code",
   "execution_count": 23,
   "id": "998e3d69",
   "metadata": {},
   "outputs": [
    {
     "data": {
      "text/plain": [
       "0.48198324022346367"
      ]
     },
     "execution_count": 23,
     "metadata": {},
     "output_type": "execute_result"
    }
   ],
   "source": [
    "mean(cross_val_score(svcR, x, y, cv=10))"
   ]
  }
 ],
 "metadata": {
  "kernelspec": {
   "display_name": "Python 3 (ipykernel)",
   "language": "python",
   "name": "python3"
  },
  "language_info": {
   "codemirror_mode": {
    "name": "ipython",
    "version": 3
   },
   "file_extension": ".py",
   "mimetype": "text/x-python",
   "name": "python",
   "nbconvert_exporter": "python",
   "pygments_lexer": "ipython3",
   "version": "3.10.1"
  }
 },
 "nbformat": 4,
 "nbformat_minor": 5
}
