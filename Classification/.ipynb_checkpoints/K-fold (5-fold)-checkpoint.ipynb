{
 "cells": [
  {
   "cell_type": "code",
   "execution_count": 256,
   "id": "587c1a12",
   "metadata": {},
   "outputs": [],
   "source": [
    "from sklearn.datasets import load_digits\n",
    "import matplotlib.pyplot as plt\n",
    "from sklearn.model_selection import train_test_split\n",
    "from sklearn.linear_model import LogisticRegression\n",
    "from sklearn.svm import SVC\n",
    "from sklearn.ensemble import RandomForestClassifier\n",
    "from sklearn.metrics import confusion_matrix\n",
    "import seaborn as sn\n",
    "from sklearn.metrics import classification_report\n",
    "from sklearn.model_selection import KFold\n",
    "from sklearn.model_selection import StratifiedKFold\n",
    "from statistics import mean\n",
    "from sklearn.model_selection import cross_val_score"
   ]
  },
  {
   "cell_type": "code",
   "execution_count": 257,
   "id": "87c2af1b",
   "metadata": {},
   "outputs": [],
   "source": [
    "import warnings\n",
    "warnings.filterwarnings('ignore')"
   ]
  },
  {
   "cell_type": "code",
   "execution_count": 258,
   "id": "a993854f",
   "metadata": {},
   "outputs": [],
   "source": [
    "digits = load_digits()\n",
    "x = digits.data\n",
    "y = digits.target"
   ]
  },
  {
   "cell_type": "code",
   "execution_count": 259,
   "id": "0dac8ebe",
   "metadata": {},
   "outputs": [],
   "source": [
    "X_train, X_test, y_train, y_test = train_test_split(x, y, test_size=0.33, random_state=42)"
   ]
  },
  {
   "cell_type": "code",
   "execution_count": 260,
   "id": "929a77dd",
   "metadata": {},
   "outputs": [],
   "source": [
    "def getScore(model, X_train, y_train, X_test, y_test):\n",
    "    model.fit(X_train, y_train)\n",
    "    return model.score(X_test, y_test)"
   ]
  },
  {
   "cell_type": "code",
   "execution_count": 261,
   "id": "84aa0fca",
   "metadata": {},
   "outputs": [
    {
     "data": {
      "text/plain": [
       "0.9747474747474747"
      ]
     },
     "execution_count": 261,
     "metadata": {},
     "output_type": "execute_result"
    }
   ],
   "source": [
    "lr = LogisticRegression(random_state=0, solver='lbfgs', max_iter=1000)\n",
    "lr.fit(X_train, y_train)\n",
    "lr.score(X_test, y_test)"
   ]
  },
  {
   "cell_type": "code",
   "execution_count": 262,
   "id": "e4f8651d",
   "metadata": {},
   "outputs": [
    {
     "data": {
      "text/plain": [
       "0.9882154882154882"
      ]
     },
     "execution_count": 262,
     "metadata": {},
     "output_type": "execute_result"
    }
   ],
   "source": [
    "svc = SVC(kernel='poly', gamma='auto')\n",
    "svc.fit(X_train, y_train)\n",
    "getScore(svc,X_train, y_train, X_test, y_test)"
   ]
  },
  {
   "cell_type": "code",
   "execution_count": 263,
   "id": "5f8d65ae",
   "metadata": {},
   "outputs": [
    {
     "data": {
      "text/plain": [
       "0.9764309764309764"
      ]
     },
     "execution_count": 263,
     "metadata": {},
     "output_type": "execute_result"
    }
   ],
   "source": [
    "rfc = RandomForestClassifier(max_depth=10, random_state=0)\n",
    "rfc.fit(X_train, y_train)\n",
    "rfc.score(X_test, y_test)"
   ]
  },
  {
   "cell_type": "code",
   "execution_count": 264,
   "id": "d300164e",
   "metadata": {},
   "outputs": [
    {
     "data": {
      "text/plain": [
       "KFold(n_splits=5, random_state=None, shuffle=False)"
      ]
     },
     "execution_count": 264,
     "metadata": {},
     "output_type": "execute_result"
    }
   ],
   "source": [
    "kf = KFold(n_splits=5)\n",
    "kf"
   ]
  },
  {
   "cell_type": "code",
   "execution_count": 265,
   "id": "0f2ce4a3",
   "metadata": {},
   "outputs": [],
   "source": [
    "svcA = []\n",
    "rfcA = []\n",
    "lrA = [] "
   ]
  },
  {
   "cell_type": "code",
   "execution_count": 266,
   "id": "8403985e",
   "metadata": {},
   "outputs": [],
   "source": [
    "for train_index, test_index in kf.split(x):\n",
    "    x_train, x_test,y_train,y_test = x[train_index],x[test_index],y[train_index],y[test_index]\n",
    "    svcA.append(getScore(svc,x_train, y_train, x_test, y_test))\n",
    "    rfcA.append(getScore(rfc,x_train, y_train, x_test, y_test))\n",
    "    lrA.append(getScore(lr,x_train, y_train, x_test, y_test))\n",
    "    #print(train_index, test_index)"
   ]
  },
  {
   "cell_type": "code",
   "execution_count": 267,
   "id": "bda8737f",
   "metadata": {},
   "outputs": [
    {
     "data": {
      "text/plain": [
       "0.9705122253172392"
      ]
     },
     "execution_count": 267,
     "metadata": {},
     "output_type": "execute_result"
    }
   ],
   "source": [
    "mean(svcA)"
   ]
  },
  {
   "cell_type": "code",
   "execution_count": 268,
   "id": "06b76eef",
   "metadata": {
    "scrolled": true
   },
   "outputs": [
    {
     "data": {
      "text/plain": [
       "0.9415861962240792"
      ]
     },
     "execution_count": 268,
     "metadata": {},
     "output_type": "execute_result"
    }
   ],
   "source": [
    "mean(rfcA)"
   ]
  },
  {
   "cell_type": "code",
   "execution_count": 269,
   "id": "d0f68042",
   "metadata": {},
   "outputs": [
    {
     "data": {
      "text/plain": [
       "0.9170999690498298"
      ]
     },
     "execution_count": 269,
     "metadata": {},
     "output_type": "execute_result"
    }
   ],
   "source": [
    "mean(lrA)"
   ]
  },
  {
   "cell_type": "code",
   "execution_count": 270,
   "id": "1603a08c",
   "metadata": {},
   "outputs": [],
   "source": [
    "skf=StratifiedKFold(n_splits=5, random_state=None, shuffle=False)"
   ]
  },
  {
   "cell_type": "code",
   "execution_count": 271,
   "id": "eff10730",
   "metadata": {},
   "outputs": [],
   "source": [
    "svcA = []\n",
    "rfcA = []\n",
    "lrA = [] "
   ]
  },
  {
   "cell_type": "code",
   "execution_count": 272,
   "id": "3ba44cb5",
   "metadata": {},
   "outputs": [],
   "source": [
    "for train_index, test_index in skf.split(x,y):\n",
    "    x_train, x_test,y_train,y_test = x[train_index],x[test_index],y[train_index],y[test_index]\n",
    "    svcA.append(getScore(svc,x_train, y_train, x_test, y_test))\n",
    "    rfcA.append(getScore(rfc,x_train, y_train, x_test, y_test))\n",
    "    lrA.append(getScore(lr,x_train, y_train, x_test, y_test))"
   ]
  },
  {
   "cell_type": "code",
   "execution_count": 273,
   "id": "cbdc2034",
   "metadata": {},
   "outputs": [
    {
     "data": {
      "text/plain": [
       "0.96884246363355"
      ]
     },
     "execution_count": 273,
     "metadata": {},
     "output_type": "execute_result"
    }
   ],
   "source": [
    "mean(svcA)"
   ]
  },
  {
   "cell_type": "code",
   "execution_count": 274,
   "id": "99ba7e43",
   "metadata": {},
   "outputs": [
    {
     "data": {
      "text/plain": [
       "0.9438084184463015"
      ]
     },
     "execution_count": 274,
     "metadata": {},
     "output_type": "execute_result"
    }
   ],
   "source": [
    "mean(rfcA)"
   ]
  },
  {
   "cell_type": "code",
   "execution_count": 275,
   "id": "cbab38d4",
   "metadata": {},
   "outputs": [
    {
     "data": {
      "text/plain": [
       "0.9126493345713401"
      ]
     },
     "execution_count": 275,
     "metadata": {},
     "output_type": "execute_result"
    }
   ],
   "source": [
    "mean(lrA)"
   ]
  },
  {
   "cell_type": "code",
   "execution_count": 276,
   "id": "1b218c92",
   "metadata": {},
   "outputs": [
    {
     "data": {
      "text/plain": [
       "0.96884246363355"
      ]
     },
     "execution_count": 276,
     "metadata": {},
     "output_type": "execute_result"
    }
   ],
   "source": [
    "mean(cross_val_score(svc, x, y, cv=5))"
   ]
  },
  {
   "cell_type": "code",
   "execution_count": 277,
   "id": "c9c0dcdb",
   "metadata": {},
   "outputs": [
    {
     "data": {
      "text/plain": [
       "0.9438084184463015"
      ]
     },
     "execution_count": 277,
     "metadata": {},
     "output_type": "execute_result"
    }
   ],
   "source": [
    "mean(cross_val_score(rfc, x, y, cv=5))"
   ]
  },
  {
   "cell_type": "code",
   "execution_count": 278,
   "id": "a04d56b3",
   "metadata": {},
   "outputs": [
    {
     "data": {
      "text/plain": [
       "0.9126493345713401"
      ]
     },
     "execution_count": 278,
     "metadata": {},
     "output_type": "execute_result"
    }
   ],
   "source": [
    "mean(cross_val_score(lr, x, y, cv=5))"
   ]
  },
  {
   "cell_type": "code",
   "execution_count": null,
   "id": "ae82328d",
   "metadata": {},
   "outputs": [],
   "source": []
  }
 ],
 "metadata": {
  "kernelspec": {
   "display_name": "Python 3 (ipykernel)",
   "language": "python",
   "name": "python3"
  },
  "language_info": {
   "codemirror_mode": {
    "name": "ipython",
    "version": 3
   },
   "file_extension": ".py",
   "mimetype": "text/x-python",
   "name": "python",
   "nbconvert_exporter": "python",
   "pygments_lexer": "ipython3",
   "version": "3.10.1"
  }
 },
 "nbformat": 4,
 "nbformat_minor": 5
}
