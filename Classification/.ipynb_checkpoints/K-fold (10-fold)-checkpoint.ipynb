{
 "cells": [
  {
   "cell_type": "code",
   "execution_count": 29,
   "id": "587c1a12",
   "metadata": {},
   "outputs": [],
   "source": [
    "from sklearn.datasets import load_digits\n",
    "import matplotlib.pyplot as plt\n",
    "from sklearn.model_selection import train_test_split\n",
    "from sklearn.linear_model import LogisticRegression\n",
    "from sklearn.svm import SVC\n",
    "from sklearn.ensemble import RandomForestClassifier\n",
    "from sklearn.metrics import confusion_matrix\n",
    "import seaborn as sn\n",
    "from sklearn.metrics import classification_report\n",
    "from sklearn.model_selection import KFold\n",
    "from sklearn.model_selection import StratifiedKFold\n",
    "from statistics import mean\n",
    "from sklearn.model_selection import cross_val_score"
   ]
  },
  {
   "cell_type": "code",
   "execution_count": 30,
   "id": "87c2af1b",
   "metadata": {},
   "outputs": [],
   "source": [
    "import warnings\n",
    "warnings.filterwarnings('ignore')"
   ]
  },
  {
   "cell_type": "code",
   "execution_count": 31,
   "id": "a993854f",
   "metadata": {},
   "outputs": [],
   "source": [
    "digits = load_digits()\n",
    "x = digits.data\n",
    "y = digits.target"
   ]
  },
  {
   "cell_type": "code",
   "execution_count": 32,
   "id": "0dac8ebe",
   "metadata": {},
   "outputs": [],
   "source": [
    "X_train, X_test, y_train, y_test = train_test_split(x, y, test_size=0.33, random_state=42)"
   ]
  },
  {
   "cell_type": "code",
   "execution_count": 33,
   "id": "929a77dd",
   "metadata": {},
   "outputs": [],
   "source": [
    "def getScore(model, X_train, y_train, X_test, y_test):\n",
    "    model.fit(X_train, y_train)\n",
    "    return model.score(X_test, y_test)"
   ]
  },
  {
   "cell_type": "code",
   "execution_count": 34,
   "id": "84aa0fca",
   "metadata": {},
   "outputs": [
    {
     "data": {
      "text/plain": [
       "0.9747474747474747"
      ]
     },
     "execution_count": 34,
     "metadata": {},
     "output_type": "execute_result"
    }
   ],
   "source": [
    "lr = LogisticRegression(random_state=0, solver='lbfgs', max_iter=1000)\n",
    "lr.fit(X_train, y_train)\n",
    "lr.score(X_test, y_test)"
   ]
  },
  {
   "cell_type": "markdown",
   "id": "340bdc97",
   "metadata": {},
   "source": [
    "### different SVM kernels"
   ]
  },
  {
   "cell_type": "code",
   "execution_count": 35,
   "id": "bdac5779",
   "metadata": {},
   "outputs": [
    {
     "data": {
      "text/plain": [
       "0.4006734006734007"
      ]
     },
     "execution_count": 35,
     "metadata": {},
     "output_type": "execute_result"
    }
   ],
   "source": [
    "svcR = SVC(kernel='rbf', gamma='auto')\n",
    "svcR.fit(X_train, y_train)\n",
    "getScore(svcR,X_train, y_train, X_test, y_test)"
   ]
  },
  {
   "cell_type": "code",
   "execution_count": 36,
   "id": "e4f8651d",
   "metadata": {},
   "outputs": [
    {
     "data": {
      "text/plain": [
       "0.9882154882154882"
      ]
     },
     "execution_count": 36,
     "metadata": {},
     "output_type": "execute_result"
    }
   ],
   "source": [
    "svcP = SVC(kernel='poly', gamma='auto')\n",
    "svcP.fit(X_train, y_train)\n",
    "getScore(svcP,X_train, y_train, X_test, y_test)"
   ]
  },
  {
   "cell_type": "code",
   "execution_count": 37,
   "id": "1869e660",
   "metadata": {},
   "outputs": [
    {
     "data": {
      "text/plain": [
       "0.9882154882154882"
      ]
     },
     "execution_count": 37,
     "metadata": {},
     "output_type": "execute_result"
    }
   ],
   "source": [
    "svcL = SVC(kernel='poly', gamma='auto')\n",
    "svcL.fit(X_train, y_train)\n",
    "getScore(svcL,X_train, y_train, X_test, y_test)"
   ]
  },
  {
   "cell_type": "code",
   "execution_count": 38,
   "id": "65d14e94",
   "metadata": {},
   "outputs": [
    {
     "data": {
      "text/plain": [
       "0.09427609427609428"
      ]
     },
     "execution_count": 38,
     "metadata": {},
     "output_type": "execute_result"
    }
   ],
   "source": [
    "svcS = SVC(kernel='sigmoid', gamma='auto')\n",
    "svcS.fit(X_train, y_train)\n",
    "getScore(svcS,X_train, y_train, X_test, y_test)"
   ]
  },
  {
   "cell_type": "code",
   "execution_count": 39,
   "id": "08e25b2d",
   "metadata": {},
   "outputs": [],
   "source": [
    "# svcPre = SVC(kernel='precomputed', gamma='auto')\n",
    "# svcPre.fit(X_train, y_train)\n",
    "# getScore(svcPre,X_train, y_train, X_test, y_test)"
   ]
  },
  {
   "cell_type": "markdown",
   "id": "8ba31992",
   "metadata": {},
   "source": [
    "### --------------------------------------------"
   ]
  },
  {
   "cell_type": "code",
   "execution_count": 40,
   "id": "5f8d65ae",
   "metadata": {},
   "outputs": [
    {
     "data": {
      "text/plain": [
       "0.9764309764309764"
      ]
     },
     "execution_count": 40,
     "metadata": {},
     "output_type": "execute_result"
    }
   ],
   "source": [
    "rfc = RandomForestClassifier(max_depth=10, random_state=0)\n",
    "rfc.fit(X_train, y_train)\n",
    "rfc.score(X_test, y_test)"
   ]
  },
  {
   "cell_type": "code",
   "execution_count": 41,
   "id": "d300164e",
   "metadata": {},
   "outputs": [
    {
     "data": {
      "text/plain": [
       "KFold(n_splits=10, random_state=None, shuffle=False)"
      ]
     },
     "execution_count": 41,
     "metadata": {},
     "output_type": "execute_result"
    }
   ],
   "source": [
    "kf = KFold(n_splits=10)\n",
    "kf"
   ]
  },
  {
   "cell_type": "code",
   "execution_count": 42,
   "id": "1280aa63",
   "metadata": {},
   "outputs": [],
   "source": [
    "svcRA = []\n",
    "svcPA = []\n",
    "svcLA = []\n",
    "svcSA = []\n",
    "# svcPreA = []"
   ]
  },
  {
   "cell_type": "code",
   "execution_count": 43,
   "id": "0f2ce4a3",
   "metadata": {},
   "outputs": [],
   "source": [
    "rfcA = []\n",
    "lrA = [] "
   ]
  },
  {
   "cell_type": "code",
   "execution_count": 44,
   "id": "8403985e",
   "metadata": {},
   "outputs": [],
   "source": [
    "for train_index, test_index in kf.split(x):\n",
    "    x_train, x_test,y_train,y_test = x[train_index],x[test_index],y[train_index],y[test_index]\n",
    "    svcRA.append(getScore(svcR,x_train, y_train, x_test, y_test))\n",
    "    svcPA.append(getScore(svcP,x_train, y_train, x_test, y_test))\n",
    "    svcLA.append(getScore(svcL,x_train, y_train, x_test, y_test))\n",
    "    svcSA.append(getScore(svcS,x_train, y_train, x_test, y_test))\n",
    "#     svcPreA.append(getScore(svcPre,x_train, y_train, x_test, y_test))\n",
    "    rfcA.append(getScore(rfc,x_train, y_train, x_test, y_test))\n",
    "    lrA.append(getScore(lr,x_train, y_train, x_test, y_test))\n",
    "    #print(train_index, test_index)"
   ]
  },
  {
   "cell_type": "code",
   "execution_count": 45,
   "id": "bda8737f",
   "metadata": {},
   "outputs": [
    {
     "data": {
      "text/plain": [
       "0.4652700186219739"
      ]
     },
     "execution_count": 45,
     "metadata": {},
     "output_type": "execute_result"
    }
   ],
   "source": [
    "mean(svcRA)"
   ]
  },
  {
   "cell_type": "code",
   "execution_count": 46,
   "id": "7b01682f",
   "metadata": {},
   "outputs": [
    {
     "data": {
      "text/plain": [
       "0.9777312228429547"
      ]
     },
     "execution_count": 46,
     "metadata": {},
     "output_type": "execute_result"
    }
   ],
   "source": [
    "mean(svcPA)"
   ]
  },
  {
   "cell_type": "code",
   "execution_count": 47,
   "id": "142ca45c",
   "metadata": {},
   "outputs": [
    {
     "data": {
      "text/plain": [
       "0.9777312228429547"
      ]
     },
     "execution_count": 47,
     "metadata": {},
     "output_type": "execute_result"
    }
   ],
   "source": [
    "mean(svcLA)"
   ]
  },
  {
   "cell_type": "code",
   "execution_count": 48,
   "id": "b5d09f92",
   "metadata": {},
   "outputs": [
    {
     "data": {
      "text/plain": [
       "0.09516139044072006"
      ]
     },
     "execution_count": 48,
     "metadata": {},
     "output_type": "execute_result"
    }
   ],
   "source": [
    "mean(svcSA)"
   ]
  },
  {
   "cell_type": "code",
   "execution_count": 49,
   "id": "c3cf9215",
   "metadata": {},
   "outputs": [],
   "source": [
    "# mean(svcPreA)"
   ]
  },
  {
   "cell_type": "code",
   "execution_count": 50,
   "id": "06b76eef",
   "metadata": {
    "scrolled": true
   },
   "outputs": [
    {
     "data": {
      "text/plain": [
       "0.9571477343265052"
      ]
     },
     "execution_count": 50,
     "metadata": {},
     "output_type": "execute_result"
    }
   ],
   "source": [
    "mean(rfcA)"
   ]
  },
  {
   "cell_type": "code",
   "execution_count": 51,
   "id": "d0f68042",
   "metadata": {},
   "outputs": [
    {
     "data": {
      "text/plain": [
       "0.932088764742396"
      ]
     },
     "execution_count": 51,
     "metadata": {},
     "output_type": "execute_result"
    }
   ],
   "source": [
    "mean(lrA)"
   ]
  },
  {
   "cell_type": "code",
   "execution_count": 52,
   "id": "1603a08c",
   "metadata": {},
   "outputs": [],
   "source": [
    "skf=StratifiedKFold(n_splits=10, random_state=None, shuffle=False)"
   ]
  },
  {
   "cell_type": "code",
   "execution_count": 53,
   "id": "eff10730",
   "metadata": {},
   "outputs": [],
   "source": [
    "svcRA = []\n",
    "svcPA = []\n",
    "svcLA = []\n",
    "svcSA = []\n",
    "# svcPreA = []\n",
    "rfcA = []\n",
    "lrA = [] "
   ]
  },
  {
   "cell_type": "code",
   "execution_count": 54,
   "id": "3ba44cb5",
   "metadata": {},
   "outputs": [],
   "source": [
    "for train_index, test_index in skf.split(x,y):\n",
    "    x_train, x_test,y_train,y_test = x[train_index],x[test_index],y[train_index],y[test_index]\n",
    "    svcRA.append(getScore(svcR,x_train, y_train, x_test, y_test))\n",
    "    svcPA.append(getScore(svcP,x_train, y_train, x_test, y_test))\n",
    "    svcLA.append(getScore(svcL,x_train, y_train, x_test, y_test))\n",
    "    svcSA.append(getScore(svcS,x_train, y_train, x_test, y_test))\n",
    "#     svcPreA.append(getScore(svcPre,x_train, y_train, x_test, y_test))\n",
    "    rfcA.append(getScore(rfc,x_train, y_train, x_test, y_test))\n",
    "    lrA.append(getScore(lr,x_train, y_train, x_test, y_test))"
   ]
  },
  {
   "cell_type": "code",
   "execution_count": 55,
   "id": "cbdc2034",
   "metadata": {},
   "outputs": [
    {
     "data": {
      "text/plain": [
       "0.48198324022346367"
      ]
     },
     "execution_count": 55,
     "metadata": {},
     "output_type": "execute_result"
    }
   ],
   "source": [
    "mean(svcRA)"
   ]
  },
  {
   "cell_type": "code",
   "execution_count": 56,
   "id": "ac43cf87",
   "metadata": {},
   "outputs": [
    {
     "data": {
      "text/plain": [
       "0.9771787709497206"
      ]
     },
     "execution_count": 56,
     "metadata": {},
     "output_type": "execute_result"
    }
   ],
   "source": [
    "mean(svcPA)"
   ]
  },
  {
   "cell_type": "code",
   "execution_count": 57,
   "id": "4e198973",
   "metadata": {},
   "outputs": [
    {
     "data": {
      "text/plain": [
       "0.9771787709497206"
      ]
     },
     "execution_count": 57,
     "metadata": {},
     "output_type": "execute_result"
    }
   ],
   "source": [
    "mean(svcLA)"
   ]
  },
  {
   "cell_type": "code",
   "execution_count": 58,
   "id": "2e72082c",
   "metadata": {},
   "outputs": [
    {
     "data": {
      "text/plain": [
       "0.10016759776536313"
      ]
     },
     "execution_count": 58,
     "metadata": {},
     "output_type": "execute_result"
    }
   ],
   "source": [
    "mean(svcSA)"
   ]
  },
  {
   "cell_type": "code",
   "execution_count": 59,
   "id": "13580213",
   "metadata": {},
   "outputs": [],
   "source": [
    "# mean(svcPreA)"
   ]
  },
  {
   "cell_type": "code",
   "execution_count": 60,
   "id": "99ba7e43",
   "metadata": {},
   "outputs": [
    {
     "data": {
      "text/plain": [
       "0.9532557417752948"
      ]
     },
     "execution_count": 60,
     "metadata": {},
     "output_type": "execute_result"
    }
   ],
   "source": [
    "mean(rfcA)"
   ]
  },
  {
   "cell_type": "code",
   "execution_count": 61,
   "id": "cbab38d4",
   "metadata": {},
   "outputs": [
    {
     "data": {
      "text/plain": [
       "0.9287492240844196"
      ]
     },
     "execution_count": 61,
     "metadata": {},
     "output_type": "execute_result"
    }
   ],
   "source": [
    "mean(lrA)"
   ]
  },
  {
   "cell_type": "code",
   "execution_count": 62,
   "id": "1b218c92",
   "metadata": {},
   "outputs": [
    {
     "data": {
      "text/plain": [
       "0.48198324022346367"
      ]
     },
     "execution_count": 62,
     "metadata": {},
     "output_type": "execute_result"
    }
   ],
   "source": [
    "mean(cross_val_score(svcR, x, y, cv=10))"
   ]
  },
  {
   "cell_type": "code",
   "execution_count": 64,
   "id": "0589c9e9",
   "metadata": {},
   "outputs": [
    {
     "data": {
      "text/plain": [
       "0.9771787709497206"
      ]
     },
     "execution_count": 64,
     "metadata": {},
     "output_type": "execute_result"
    }
   ],
   "source": [
    "mean(cross_val_score(svcP, x, y, cv=10))"
   ]
  },
  {
   "cell_type": "code",
   "execution_count": 65,
   "id": "d42d55b6",
   "metadata": {},
   "outputs": [
    {
     "data": {
      "text/plain": [
       "0.9771787709497206"
      ]
     },
     "execution_count": 65,
     "metadata": {},
     "output_type": "execute_result"
    }
   ],
   "source": [
    "mean(cross_val_score(svcL, x, y, cv=10))"
   ]
  },
  {
   "cell_type": "code",
   "execution_count": 66,
   "id": "177c7cc2",
   "metadata": {},
   "outputs": [
    {
     "data": {
      "text/plain": [
       "0.10016759776536313"
      ]
     },
     "execution_count": 66,
     "metadata": {},
     "output_type": "execute_result"
    }
   ],
   "source": [
    "mean(cross_val_score(svcS, x, y, cv=10))"
   ]
  },
  {
   "cell_type": "code",
   "execution_count": 67,
   "id": "be92878b",
   "metadata": {},
   "outputs": [],
   "source": [
    "# mean(cross_val_score(svcPre, x, y, cv=10))"
   ]
  },
  {
   "cell_type": "code",
   "execution_count": 68,
   "id": "c9c0dcdb",
   "metadata": {},
   "outputs": [
    {
     "data": {
      "text/plain": [
       "0.9532557417752948"
      ]
     },
     "execution_count": 68,
     "metadata": {},
     "output_type": "execute_result"
    }
   ],
   "source": [
    "mean(cross_val_score(rfc, x, y, cv=10))"
   ]
  },
  {
   "cell_type": "code",
   "execution_count": 69,
   "id": "a04d56b3",
   "metadata": {},
   "outputs": [
    {
     "data": {
      "text/plain": [
       "0.9287492240844196"
      ]
     },
     "execution_count": 69,
     "metadata": {},
     "output_type": "execute_result"
    }
   ],
   "source": [
    "mean(cross_val_score(lr, x, y, cv=10))"
   ]
  },
  {
   "cell_type": "code",
   "execution_count": null,
   "id": "ae82328d",
   "metadata": {},
   "outputs": [],
   "source": []
  }
 ],
 "metadata": {
  "kernelspec": {
   "display_name": "Python 3 (ipykernel)",
   "language": "python",
   "name": "python3"
  },
  "language_info": {
   "codemirror_mode": {
    "name": "ipython",
    "version": 3
   },
   "file_extension": ".py",
   "mimetype": "text/x-python",
   "name": "python",
   "nbconvert_exporter": "python",
   "pygments_lexer": "ipython3",
   "version": "3.10.1"
  }
 },
 "nbformat": 4,
 "nbformat_minor": 5
}
