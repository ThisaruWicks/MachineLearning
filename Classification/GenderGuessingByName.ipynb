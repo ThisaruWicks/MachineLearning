{
 "cells": [
  {
   "cell_type": "code",
   "execution_count": 176,
   "id": "93cea3a8",
   "metadata": {},
   "outputs": [],
   "source": [
    "import pandas as pd\n",
    "import matplotlib.pyplot as plt\n",
    "from sklearn.model_selection import train_test_split\n",
    "from sklearn.metrics import classification_report\n",
    "from sklearn.model_selection import KFold\n",
    "from sklearn.model_selection import StratifiedKFold\n",
    "import seaborn as sn\n",
    "from statistics import mean\n",
    "from sklearn.model_selection import cross_val_score\n",
    "from sklearn.metrics import confusion_matrix\n",
    "from sklearn.feature_extraction.text import CountVectorizer\n",
    "from sklearn.feature_extraction import DictVectorizer\n",
    "\n",
    "\n",
    "from sklearn.naive_bayes import BernoulliNB\n",
    "from sklearn.svm import SVC\n",
    "from sklearn import tree"
   ]
  },
  {
   "cell_type": "code",
   "execution_count": 177,
   "id": "9fb2971c",
   "metadata": {},
   "outputs": [],
   "source": [
    "df1 = pd.read_csv('male.txt', header=None)\n",
    "df2 = pd.read_csv('female.txt', header=None)"
   ]
  },
  {
   "cell_type": "code",
   "execution_count": 178,
   "id": "a86e10d2",
   "metadata": {},
   "outputs": [],
   "source": [
    "df1 = df1.assign(gender = 1)\n",
    "df2 = df2.assign(gender = 0)"
   ]
  },
  {
   "cell_type": "code",
   "execution_count": 179,
   "id": "e2a007f1",
   "metadata": {},
   "outputs": [],
   "source": [
    "#df = pd.concat([df1,df2], axis = 'rows')\n",
    "#df"
   ]
  },
  {
   "cell_type": "code",
   "execution_count": 180,
   "id": "d66dd8bf",
   "metadata": {},
   "outputs": [],
   "source": [
    "df = df1.append(df2) "
   ]
  },
  {
   "cell_type": "code",
   "execution_count": 181,
   "id": "67c14bfd",
   "metadata": {},
   "outputs": [],
   "source": [
    "x = df.iloc[:,:1]\n",
    "y = df.gender\n",
    "# x.values\n"
   ]
  },
  {
   "cell_type": "code",
   "execution_count": 182,
   "id": "54c32764",
   "metadata": {},
   "outputs": [],
   "source": [
    "x = x.values.flatten()"
   ]
  },
  {
   "cell_type": "code",
   "execution_count": 183,
   "id": "00d26ba0",
   "metadata": {},
   "outputs": [
    {
     "data": {
      "text/plain": [
       "array(['චමුදිත', 'එඩ්වඩ්', 'ජයදේශ', 'ක්\\u200dරිෂාන්ත', 'චතුර', 'ධර්මදාස',\n",
       "       'චන්දන', 'මොහිදීන්', 'මධුසංඛ', 'කමල්', 'ලුලිත', 'චානක', 'ලයනල්',\n",
       "       'ක්ලැරන්ස්', 'ප්\\u200dරසාන්', 'රවිඳු', 'ශම්මික', 'සහන්', 'ගිහාන්',\n",
       "       'රාජු', 'සේවින්ද', 'සලීම්', 'රජීව්', 'චතුරංග', 'සුදත්', 'නදීන්',\n",
       "       'යශෝධ', 'ප්\\u200dරමුත්', 'උපේක්\\u200dෂ', 'ඉරංග', 'ගීතක', 'දම්සත්',\n",
       "       'සසංක', 'ජැක්සන්', 'චනිඳු', 'දිනේන්ද්\\u200dර', 'නිරෝෂන්',\n",
       "       'නෙල්සන්', 'සුරාජ්', 'නිර්දේෂ', 'නෙයොමාල්', 'මුදිත', 'රූකාන්ත',\n",
       "       'අසංක', 'කසුන්', 'නිමල්', 'ධනික', 'අජන්ත', 'වාසල', 'හිමාල්',\n",
       "       'දිනෙත්', 'මර්වින්', 'අරුණ', 'බණ්ඩාර', 'විරාජ්', 'අසිත', 'වින්දන',\n",
       "       'දිල්හාර', 'දෙනුවන්', 'රාජිත', 'දිනේෂ්ෂාන්', 'බන්ධුල',\n",
       "       'ඉන්ද්\\u200dරජිත්', 'විජය', 'යුරේෂ්', 'හිරාන්', 'බන්දුල',\n",
       "       'සේනානායක', 'නාරද', 'රමිඳු', 'ක්\\u200dරිශාන්ත', 'ජයනාත්', 'ඉඳුවර',\n",
       "       'නන්දන', 'සුජිත්', 'ඉසුරු', 'සමන්', 'ග්\\u200dරැන්විල්', 'මහිම',\n",
       "       'උෂාන්', 'වික්ටර්', 'මලික්', 'මවින්ද', 'අදීශාන්', 'ජගත්',\n",
       "       'මිල්ටන්', 'සජිත්', 'සුරත්', 'ඉන්දික', 'දේවින්ද', 'කළණ', 'දයාන්',\n",
       "       'ලසන්ත', 'ජිනදාස', 'රුවන්', 'බුද්ධික', 'සනත්', 'නුවන්', 'ජීවන',\n",
       "       'චින්තක', 'ගිම්හාන්', 'ප්\\u200dරියන්ත', 'අනුර', 'නේමින්ද',\n",
       "       'ගැමුණු', 'අකලංක', 'භාතිය', 'මාලික', 'ගුණදාස', 'රවීන්ද්\\u200dර',\n",
       "       'උදාර', 'තිලිණ', 'ලයාන්', 'චාමර', 'ෂෙල්ටන්', 'ඇන්ටන්', 'ලලින්',\n",
       "       'නාගිත', 'චමිල', 'සුදීප', 'ඉෂාක්', 'උදය', 'ප්\\u200dරභාත්', 'ආමන්ත',\n",
       "       'චමත්', 'චරිත්', 'ඔල්බන්', 'කුමාර', 'කවිඳු', 'සංගීත්', 'රනිඳු',\n",
       "       'නදීක', 'සුදාරක', 'සංජීව', 'ජයලත්', 'ප්\\u200dරදීප්', 'මියුරු',\n",
       "       'දිල්ශාන්', 'උදිත', 'අරූන්', 'නවිඳු', 'හරූන්', 'ධම්මික', 'දීපාල්',\n",
       "       'උදයංග', 'තිලක්', 'නමින්ද', 'ධනුෂ්ක', 'ලක්මාල්', 'තුෂාර', 'රංග',\n",
       "       'කල්ප', 'දීප්ත', 'අචල', 'රන්දිල්', 'ටෙෂාන්ත', 'දුවිෂ්ක', 'මාධව',\n",
       "       'අමිත්', 'සන්තුෂ්', 'නාමල්', 'ජානක', 'ඩෙස්මන්ඩ්', 'චූලංග', 'අතුල',\n",
       "       'සතිෂ්', 'ආනන්ද', 'සම්පත්', 'සුරංග', 'ලක්ෂ්මන්', 'ධර්මප්\\u200dරිය',\n",
       "       'ක්\\u200dරිස්ටෝප', 'දුලාන්', 'මධුමාධව', 'මැක්ස්වෙල්', 'රජීව',\n",
       "       'රන්ජන්', 'ඉරාජ්', 'ශාලිත', 'චන්ද්\\u200dරකුමාර', 'ලූෂන්', 'හසිත්',\n",
       "       'දිලුක්ෂ', 'දමිත්', 'තරිඳු', 'සාගර', 'සුනිල්', 'දර්ශන', 'සංජිත',\n",
       "       'කළිඟු', 'දුමින්ද', 'අනිලක', 'ලලිත්', 'රොෂාන්',\n",
       "       'ඉන්\\u200dද්\\u200dරචාප', 'අනිල්', 'චමින්ද', 'කල්හාර', 'අජිත්',\n",
       "       'මධුර', 'ෂාන්', 'ලක්ෂාන්', 'නදුන්', 'යොහාන්', 'වාසුල', 'අනුෂ්ක',\n",
       "       'නිශාන්ත', 'ශාන්ත', 'කෞෂල්\\u200dය', 'විමල්', 'පර්ල්', 'නිහාල්',\n",
       "       'ප්\\u200dරින්ස්', 'ධනපාල', 'දයාරත්න', 'අරවින්ද', 'සිසිර', 'දුමිඳු',\n",
       "       'ජනිඳු', 'පසිඳු', 'රෂින්තක', 'ලහිරු', 'විදුර', 'සනුක', 'රමෝල',\n",
       "       'සුරේන්ද්\\u200dර', 'යශෝධර', 'කිංස්ලි', 'ධර්මසිරි', 'ශර්ලි',\n",
       "       'අමරසිරි', 'ඇන්තනී', 'ඇනස්ලි', 'ක්\\u200dරිස්ටි', 'ආසිරි', 'පර්සි',\n",
       "       'ෆ්\\u200dරෙඩී', 'හෙන්රි', 'කිත්සිරි', 'තිලකසිරි', 'පුන්සිරි',\n",
       "       'ස්ටැන්ලි', 'කීර්ති', 'විශ්වා', 'ආත්මා', 'ගාමිණී', 'පතිනි',\n",
       "       'ගයංගා', 'දිනිඳි', 'ජිත්මි', 'දෙව්මිණි', 'දිල්හානි', 'වත්සලා',\n",
       "       'ලතා', 'චූලනී', 'දර්ශනී', 'සංකිනී', 'දුලාරි', 'ඉමල්කා', 'මියුරිකා',\n",
       "       'නීලා', 'චමිලා', 'සමිතා', 'ලක්ෂිකා', 'ස්වර්ණලතා', 'ශ්\\u200dරීමාලී',\n",
       "       'කවිනි', 'ගයන්තා', 'රාණි', 'බුද්ධිනී', 'අනුලා', 'චන්ද්\\u200dරලේඛා',\n",
       "       'දිස්නා', 'මුදිතා', 'විසුද්ධි', 'රෂිනි', 'රුක්මණී', 'ඩිමාෂා',\n",
       "       'සචිනි', 'සුභාෂිණි', 'යමායා', 'ප්\\u200dරබෝධා', 'යසස්මි',\n",
       "       'ප්\\u200dරමෝද්\\u200dයා', 'මාලනී', 'මංගලිකා', 'ඉන්දිකා', 'ඩිල්ශානි',\n",
       "       'උපාලි', 'ජීවනී', 'ශාරංගි', 'සංචනා', 'අංජලී', 'රෂ්මිකා', 'ගෞරි',\n",
       "       'සුමනා', 'ප්\\u200dරියා', 'හිමාලි', 'ෂර්මිලා', 'කල්හාරි', 'නිලූකා',\n",
       "       'කමලා', 'ලලිකා', 'වෙරෝෂා', 'ජීවන්ති', 'දිනේෂා', 'සශිකා', 'උපමාලි',\n",
       "       'ශ්\\u200dරීමලී', 'චරින්ද්\\u200dරා', 'අරුණි', 'මල්ලිකා', 'චම්පා',\n",
       "       'චන්දි', 'සත්සරණි', 'නිරංජලා', 'මිලිෂා', 'තිලංකා', 'ගයත්\\u200dරී',\n",
       "       'නෙත්මි', 'ඉසුරි', 'උදාරි', 'රශ්මි', 'උදාරා', 'උෂානි', 'ජිනාංගි',\n",
       "       'මෙලනි', 'වෙරංගි', 'කල්පනා', 'මල්කි', 'තිෂානි', 'මායා', 'සුසිලා',\n",
       "       'උදයාංගනී', 'ඉන්ද්\\u200dරා', 'ප්\\u200dරසාදි', 'නිම්මි', 'රවිඳුනී',\n",
       "       'හංසිකා', 'නිසංසලා', 'විරාජිනී', 'මංජුලා', 'නදීකා', 'සවින්දි',\n",
       "       'අමීෂා', 'ඡායා', 'චතුරංගි', 'ප්\\u200dරේමා', 'උදයංගනී', 'විමලා',\n",
       "       'ඉෂානි', 'ප්\\u200dරමෝදා', 'චරිතා', 'රධිකා', 'ධම්මිකා',\n",
       "       'ප්\\u200dරියදර්ශනී', 'නේරංජා', 'තනුජිකා', 'දිව්\\u200dයාංජලී',\n",
       "       'කවීෂා', 'නිරෝෂා', 'රම්\\u200dයා', 'විනාලි', 'සුජතා', 'රුවනි',\n",
       "       'මාධවී', 'චතුමිණී', 'කලානි', 'වින්ද්\\u200dයා', 'ශිරාණි', 'අවන්ති',\n",
       "       'අයන්තිකා', 'කමනි', 'ශෂිකා', 'නෙලූ', 'ලාවන්\\u200dයා', 'අමරා',\n",
       "       'සමන්ති', 'හෂින්ති', 'රෂීමා', 'අනුෂ්කා', 'බිනූෂා',\n",
       "       'සුනේත්\\u200dරා', 'සාගරිකා', 'චන්ද්\\u200dරිකා', 'මිහිරානි',\n",
       "       'රිෂ්නිකා', 'ලසන්තිකා', 'නදීෂා', 'නුවන්තාරා', 'හර්ෂණී', 'නිෂාදි',\n",
       "       'මදුමාලි', 'සයුරි', 'මාලතී', 'උරේෂා', 'කෙත්මිණි', 'දුලානි',\n",
       "       'ස්වර්ණා', 'රුවන්ති', 'ගයාෂා', 'චාමරී', 'බියංකා', 'සජානි',\n",
       "       'සන්ධ්\\u200dයා', 'ඉන්ද්\\u200dරානි', 'පෙත්මි', 'ඉරේෂිකා', 'රොෂානි',\n",
       "       'ඕෂිනී', 'අනූෂා', 'රංගනී', 'මහේෂිකා', 'වාසනා', 'ඉමාෂි', 'නිම්සරා',\n",
       "       'කමනිකා', 'උමයංගනී', 'නිල්මිණි', 'සමුද්දිකා', 'චතුරාදි', 'සුනන්දා',\n",
       "       'නිර්මලා', 'යොහානා', 'මර්සි', 'කුමාරි', 'ඩිලානි', 'ශ්\\u200dයාමා',\n",
       "       'ශ්\\u200dයාමි', 'හසිනි', 'හිරුණි', 'හිරුෂි', 'ජසින්තා', 'වසන්තා',\n",
       "       'මල්කාන්ති', 'වසන්ති', 'යුහන්සා', 'මාණික්\\u200dයා', 'දමයන්ති',\n",
       "       'ලක්\\u200dෂ්මි', 'එරන්දි', 'ලක්මිණී', 'සලීකා', 'විනූෂි', 'දේශානි',\n",
       "       'දීපිකා', 'තමාරා', 'පවිත්\\u200dරා', 'හසන්තිකා', 'මංජුරී',\n",
       "       'චිත්\\u200dරා', 'දුෂානි', 'හර්ෂි', 'මැණිකේ', 'මරියසෙල්', 'මානෙල්',\n",
       "       'කුසුම්'], dtype=object)"
      ]
     },
     "execution_count": 183,
     "metadata": {},
     "output_type": "execute_result"
    }
   ],
   "source": [
    "x"
   ]
  },
  {
   "cell_type": "code",
   "execution_count": 184,
   "id": "e6e242e5",
   "metadata": {},
   "outputs": [],
   "source": [
    "X_train, X_test, y_train, y_test = train_test_split(x, y, test_size=0.33, random_state=42)"
   ]
  },
  {
   "cell_type": "code",
   "execution_count": 185,
   "id": "c801f5d5",
   "metadata": {},
   "outputs": [
    {
     "data": {
      "text/plain": [
       "(306,)"
      ]
     },
     "execution_count": 185,
     "metadata": {},
     "output_type": "execute_result"
    }
   ],
   "source": [
    "X_train.shape"
   ]
  },
  {
   "cell_type": "code",
   "execution_count": 186,
   "id": "fb5ca755",
   "metadata": {},
   "outputs": [],
   "source": [
    "vectorizer = CountVectorizer()\n",
    "X_train = vectorizer.fit_transform(X_train)\n",
    "X_test = vectorizer.transform(X_test)\n",
    "#dictonary vectorizer use krnna"
   ]
  },
  {
   "cell_type": "raw",
   "id": "3cb14ace",
   "metadata": {},
   "source": [
    "### naive bayes classifier #multinomial wenna oni"
   ]
  },
  {
   "cell_type": "code",
   "execution_count": 188,
   "id": "571611a2",
   "metadata": {},
   "outputs": [
    {
     "data": {
      "text/plain": [
       "BernoulliNB()"
      ]
     },
     "execution_count": 188,
     "metadata": {},
     "output_type": "execute_result"
    }
   ],
   "source": [
    "NBB = BernoulliNB()\n",
    "NBB.fit(X_train, y_train)"
   ]
  },
  {
   "cell_type": "code",
   "execution_count": 190,
   "id": "f5c7b4a7",
   "metadata": {},
   "outputs": [
    {
     "data": {
      "text/plain": [
       "0.5298013245033113"
      ]
     },
     "execution_count": 190,
     "metadata": {},
     "output_type": "execute_result"
    }
   ],
   "source": [
    "NBB.score(X_test,y_test)"
   ]
  },
  {
   "cell_type": "raw",
   "id": "faae5e6d",
   "metadata": {},
   "source": [
    "### support vector classifier"
   ]
  },
  {
   "cell_type": "code",
   "execution_count": 197,
   "id": "320d138d",
   "metadata": {},
   "outputs": [
    {
     "data": {
      "text/plain": [
       "SVC(gamma='auto')"
      ]
     },
     "execution_count": 197,
     "metadata": {},
     "output_type": "execute_result"
    }
   ],
   "source": [
    "svc = SVC(kernel='rbf', gamma='auto')\n",
    "svc.fit(X_train, y_train)"
   ]
  },
  {
   "cell_type": "code",
   "execution_count": 198,
   "id": "92b64cc3",
   "metadata": {},
   "outputs": [
    {
     "data": {
      "text/plain": [
       "0.5562913907284768"
      ]
     },
     "execution_count": 198,
     "metadata": {},
     "output_type": "execute_result"
    }
   ],
   "source": [
    "svc.score(X_test,y_test)"
   ]
  },
  {
   "cell_type": "code",
   "execution_count": null,
   "id": "5fd05bec",
   "metadata": {},
   "outputs": [],
   "source": []
  },
  {
   "cell_type": "raw",
   "id": "9efe772b",
   "metadata": {},
   "source": [
    "### decision tree"
   ]
  },
  {
   "cell_type": "code",
   "execution_count": null,
   "id": "67e71c4b",
   "metadata": {},
   "outputs": [],
   "source": [
    "dt = tree.DecisionTreeClassifier()\n",
    "dt = clf.fit(X_train, y_train )"
   ]
  }
 ],
 "metadata": {
  "kernelspec": {
   "display_name": "Python 3 (ipykernel)",
   "language": "python",
   "name": "python3"
  },
  "language_info": {
   "codemirror_mode": {
    "name": "ipython",
    "version": 3
   },
   "file_extension": ".py",
   "mimetype": "text/x-python",
   "name": "python",
   "nbconvert_exporter": "python",
   "pygments_lexer": "ipython3",
   "version": "3.10.1"
  }
 },
 "nbformat": 4,
 "nbformat_minor": 5
}
