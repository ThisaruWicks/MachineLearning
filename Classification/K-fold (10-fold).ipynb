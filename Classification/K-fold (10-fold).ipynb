{
 "cells": [
  {
   "cell_type": "code",
   "execution_count": 60,
   "id": "587c1a12",
   "metadata": {},
   "outputs": [],
   "source": [
    "from sklearn.datasets import load_digits\n",
    "import matplotlib.pyplot as plt\n",
    "from sklearn.model_selection import train_test_split\n",
    "from sklearn.linear_model import LogisticRegression\n",
    "from sklearn.svm import SVC\n",
    "from sklearn.ensemble import RandomForestClassifier\n",
    "from sklearn.metrics import confusion_matrix\n",
    "import seaborn as sn\n",
    "from sklearn.metrics import classification_report\n",
    "from sklearn.model_selection import KFold\n",
    "from sklearn.model_selection import StratifiedKFold\n",
    "from statistics import mean\n",
    "from sklearn.model_selection import cross_val_score"
   ]
  },
  {
   "cell_type": "code",
   "execution_count": 61,
   "id": "87c2af1b",
   "metadata": {},
   "outputs": [],
   "source": [
    "import warnings\n",
    "warnings.filterwarnings('ignore')"
   ]
  },
  {
   "cell_type": "code",
   "execution_count": 62,
   "id": "a993854f",
   "metadata": {},
   "outputs": [],
   "source": [
    "digits = load_digits()\n",
    "x = digits.data\n",
    "y = digits.target"
   ]
  },
  {
   "cell_type": "code",
   "execution_count": 63,
   "id": "0dac8ebe",
   "metadata": {},
   "outputs": [],
   "source": [
    "X_train, X_test, y_train, y_test = train_test_split(x, y, test_size=0.33, random_state=42)"
   ]
  },
  {
   "cell_type": "code",
   "execution_count": 64,
   "id": "929a77dd",
   "metadata": {},
   "outputs": [],
   "source": [
    "def getScore(model, X_train, y_train, X_test, y_test):\n",
    "    model.fit(X_train, y_train)\n",
    "    return model.score(X_test, y_test)"
   ]
  },
  {
   "cell_type": "code",
   "execution_count": 65,
   "id": "84aa0fca",
   "metadata": {},
   "outputs": [
    {
     "data": {
      "text/plain": [
       "0.9747474747474747"
      ]
     },
     "execution_count": 65,
     "metadata": {},
     "output_type": "execute_result"
    }
   ],
   "source": [
    "lr = LogisticRegression(random_state=0, solver='lbfgs', max_iter=1000)\n",
    "lr.fit(X_train, y_train)\n",
    "lr.score(X_test, y_test)"
   ]
  },
  {
   "cell_type": "markdown",
   "id": "819bd7d2",
   "metadata": {},
   "source": [
    "### different SVM kernels"
   ]
  },
  {
   "cell_type": "code",
   "execution_count": 66,
   "id": "4aec0344",
   "metadata": {},
   "outputs": [
    {
     "data": {
      "text/plain": [
       "0.4006734006734007"
      ]
     },
     "execution_count": 66,
     "metadata": {},
     "output_type": "execute_result"
    }
   ],
   "source": [
    "svcR = SVC(kernel='rbf', gamma='auto')\n",
    "svcR.fit(X_train, y_train)\n",
    "getScore(svcR,X_train, y_train, X_test, y_test)"
   ]
  },
  {
   "cell_type": "code",
   "execution_count": 67,
   "id": "e4f8651d",
   "metadata": {},
   "outputs": [
    {
     "data": {
      "text/plain": [
       "0.9882154882154882"
      ]
     },
     "execution_count": 67,
     "metadata": {},
     "output_type": "execute_result"
    }
   ],
   "source": [
    "svcP = SVC(kernel='poly', gamma='auto')\n",
    "svcP.fit(X_train, y_train)\n",
    "getScore(svcP,X_train, y_train, X_test, y_test)"
   ]
  },
  {
   "cell_type": "code",
   "execution_count": 68,
   "id": "327a10c6",
   "metadata": {},
   "outputs": [
    {
     "data": {
      "text/plain": [
       "0.9882154882154882"
      ]
     },
     "execution_count": 68,
     "metadata": {},
     "output_type": "execute_result"
    }
   ],
   "source": [
    "svcL = SVC(kernel='poly', gamma='auto')\n",
    "svcL.fit(X_train, y_train)\n",
    "getScore(svcL,X_train, y_train, X_test, y_test)"
   ]
  },
  {
   "cell_type": "code",
   "execution_count": 69,
   "id": "1f614cc3",
   "metadata": {},
   "outputs": [
    {
     "data": {
      "text/plain": [
       "0.09427609427609428"
      ]
     },
     "execution_count": 69,
     "metadata": {},
     "output_type": "execute_result"
    }
   ],
   "source": [
    "svcS = SVC(kernel='sigmoid', gamma='auto')\n",
    "svcS.fit(X_train, y_train)\n",
    "getScore(svcS,X_train, y_train, X_test, y_test)"
   ]
  },
  {
   "cell_type": "code",
   "execution_count": 70,
   "id": "8e63fa82",
   "metadata": {},
   "outputs": [],
   "source": [
    "# svcPre = SVC(kernel='precomputed', gamma='auto')\n",
    "# svcPre.fit(X_train, y_train)\n",
    "# getScore(svcPre,X_train, y_train, X_test, y_test)"
   ]
  },
  {
   "cell_type": "markdown",
   "id": "6a2fdc7b",
   "metadata": {},
   "source": [
    "### --------------------------------------------"
   ]
  },
  {
   "cell_type": "code",
   "execution_count": 71,
   "id": "5f8d65ae",
   "metadata": {},
   "outputs": [
    {
     "data": {
      "text/plain": [
       "0.9764309764309764"
      ]
     },
     "execution_count": 71,
     "metadata": {},
     "output_type": "execute_result"
    }
   ],
   "source": [
    "rfc = RandomForestClassifier(max_depth=10, random_state=0)\n",
    "rfc.fit(X_train, y_train)\n",
    "rfc.score(X_test, y_test)"
   ]
  },
  {
   "cell_type": "code",
   "execution_count": 72,
   "id": "d300164e",
   "metadata": {},
   "outputs": [
    {
     "data": {
      "text/plain": [
       "KFold(n_splits=10, random_state=None, shuffle=False)"
      ]
     },
     "execution_count": 72,
     "metadata": {},
     "output_type": "execute_result"
    }
   ],
   "source": [
    "kf = KFold(n_splits=10)\n",
    "kf"
   ]
  },
  {
   "cell_type": "code",
   "execution_count": 73,
   "id": "13324c46",
   "metadata": {},
   "outputs": [],
   "source": [
    "svcRA = []\n",
    "svcPA = []\n",
    "svcLA = []\n",
    "svcSA = []\n",
    "svcPreA = []"
   ]
  },
  {
   "cell_type": "code",
   "execution_count": 74,
   "id": "0f2ce4a3",
   "metadata": {},
   "outputs": [],
   "source": [
    "rfcA = []\n",
    "lrA = [] "
   ]
  },
  {
   "cell_type": "code",
   "execution_count": 75,
   "id": "8403985e",
   "metadata": {},
   "outputs": [],
   "source": [
    "for train_index, test_index in kf.split(x):\n",
    "    x_train, x_test,y_train,y_test = x[train_index],x[test_index],y[train_index],y[test_index]\n",
    "    svcRA.append(getScore(svcR,x_train, y_train, x_test, y_test))\n",
    "    svcPA.append(getScore(svcP,x_train, y_train, x_test, y_test))\n",
    "    svcLA.append(getScore(svcL,x_train, y_train, x_test, y_test))\n",
    "    svcSA.append(getScore(svcS,x_train, y_train, x_test, y_test))\n",
    "#     svcPreA.append(getScore(svcPre,x_train, y_train, x_test, y_test))\n",
    "    rfcA.append(getScore(rfc,x_train, y_train, x_test, y_test))\n",
    "    lrA.append(getScore(lr,x_train, y_train, x_test, y_test))\n",
    "    #print(train_index, test_index)"
   ]
  },
  {
   "cell_type": "code",
   "execution_count": 76,
   "id": "bda8737f",
   "metadata": {},
   "outputs": [
    {
     "data": {
      "text/plain": [
       "0.4652700186219739"
      ]
     },
     "execution_count": 76,
     "metadata": {},
     "output_type": "execute_result"
    }
   ],
   "source": [
    "mean(svcRA)"
   ]
  },
  {
   "cell_type": "code",
   "execution_count": 77,
   "id": "27eb1028",
   "metadata": {},
   "outputs": [
    {
     "data": {
      "text/plain": [
       "0.9777312228429547"
      ]
     },
     "execution_count": 77,
     "metadata": {},
     "output_type": "execute_result"
    }
   ],
   "source": [
    "mean(svcPA)"
   ]
  },
  {
   "cell_type": "code",
   "execution_count": 78,
   "id": "a14f52af",
   "metadata": {},
   "outputs": [
    {
     "data": {
      "text/plain": [
       "0.9777312228429547"
      ]
     },
     "execution_count": 78,
     "metadata": {},
     "output_type": "execute_result"
    }
   ],
   "source": [
    "mean(svcLA)"
   ]
  },
  {
   "cell_type": "code",
   "execution_count": 79,
   "id": "4d33d62d",
   "metadata": {},
   "outputs": [
    {
     "data": {
      "text/plain": [
       "0.09516139044072006"
      ]
     },
     "execution_count": 79,
     "metadata": {},
     "output_type": "execute_result"
    }
   ],
   "source": [
    "mean(svcSA)"
   ]
  },
  {
   "cell_type": "code",
   "execution_count": 80,
   "id": "90320bdb",
   "metadata": {},
   "outputs": [],
   "source": [
    "# mean(svcPreA)"
   ]
  },
  {
   "cell_type": "code",
   "execution_count": 81,
   "id": "06b76eef",
   "metadata": {
    "scrolled": true
   },
   "outputs": [
    {
     "data": {
      "text/plain": [
       "0.9571477343265052"
      ]
     },
     "execution_count": 81,
     "metadata": {},
     "output_type": "execute_result"
    }
   ],
   "source": [
    "mean(rfcA)"
   ]
  },
  {
   "cell_type": "code",
   "execution_count": 82,
   "id": "d0f68042",
   "metadata": {},
   "outputs": [
    {
     "data": {
      "text/plain": [
       "0.932088764742396"
      ]
     },
     "execution_count": 82,
     "metadata": {},
     "output_type": "execute_result"
    }
   ],
   "source": [
    "mean(lrA)"
   ]
  },
  {
   "cell_type": "code",
   "execution_count": 83,
   "id": "1603a08c",
   "metadata": {},
   "outputs": [],
   "source": [
    "skf=StratifiedKFold(n_splits=10, random_state=None, shuffle=False)"
   ]
  },
  {
   "cell_type": "code",
   "execution_count": 84,
   "id": "eff10730",
   "metadata": {},
   "outputs": [],
   "source": [
    "svcRA = []\n",
    "svcPA = []\n",
    "svcLA = []\n",
    "svcSA = []\n",
    "# svcPreA = []\n",
    "rfcA = []\n",
    "lrA = [] "
   ]
  },
  {
   "cell_type": "code",
   "execution_count": 85,
   "id": "3ba44cb5",
   "metadata": {},
   "outputs": [
    {
     "ename": "ValueError",
     "evalue": "Precomputed matrix must be a square matrix. Input is a 1617x64 matrix.",
     "output_type": "error",
     "traceback": [
      "\u001b[1;31m---------------------------------------------------------------------------\u001b[0m",
      "\u001b[1;31mValueError\u001b[0m                                Traceback (most recent call last)",
      "\u001b[1;32m~\\AppData\\Local\\Temp/ipykernel_1800/3648115723.py\u001b[0m in \u001b[0;36m<module>\u001b[1;34m\u001b[0m\n\u001b[0;32m      5\u001b[0m     \u001b[0msvcLA\u001b[0m\u001b[1;33m.\u001b[0m\u001b[0mappend\u001b[0m\u001b[1;33m(\u001b[0m\u001b[0mgetScore\u001b[0m\u001b[1;33m(\u001b[0m\u001b[0msvcL\u001b[0m\u001b[1;33m,\u001b[0m\u001b[0mx_train\u001b[0m\u001b[1;33m,\u001b[0m \u001b[0my_train\u001b[0m\u001b[1;33m,\u001b[0m \u001b[0mx_test\u001b[0m\u001b[1;33m,\u001b[0m \u001b[0my_test\u001b[0m\u001b[1;33m)\u001b[0m\u001b[1;33m)\u001b[0m\u001b[1;33m\u001b[0m\u001b[1;33m\u001b[0m\u001b[0m\n\u001b[0;32m      6\u001b[0m     \u001b[0msvcSA\u001b[0m\u001b[1;33m.\u001b[0m\u001b[0mappend\u001b[0m\u001b[1;33m(\u001b[0m\u001b[0mgetScore\u001b[0m\u001b[1;33m(\u001b[0m\u001b[0msvcS\u001b[0m\u001b[1;33m,\u001b[0m\u001b[0mx_train\u001b[0m\u001b[1;33m,\u001b[0m \u001b[0my_train\u001b[0m\u001b[1;33m,\u001b[0m \u001b[0mx_test\u001b[0m\u001b[1;33m,\u001b[0m \u001b[0my_test\u001b[0m\u001b[1;33m)\u001b[0m\u001b[1;33m)\u001b[0m\u001b[1;33m\u001b[0m\u001b[1;33m\u001b[0m\u001b[0m\n\u001b[1;32m----> 7\u001b[1;33m     \u001b[0msvcPreA\u001b[0m\u001b[1;33m.\u001b[0m\u001b[0mappend\u001b[0m\u001b[1;33m(\u001b[0m\u001b[0mgetScore\u001b[0m\u001b[1;33m(\u001b[0m\u001b[0msvcPre\u001b[0m\u001b[1;33m,\u001b[0m\u001b[0mx_train\u001b[0m\u001b[1;33m,\u001b[0m \u001b[0my_train\u001b[0m\u001b[1;33m,\u001b[0m \u001b[0mx_test\u001b[0m\u001b[1;33m,\u001b[0m \u001b[0my_test\u001b[0m\u001b[1;33m)\u001b[0m\u001b[1;33m)\u001b[0m\u001b[1;33m\u001b[0m\u001b[1;33m\u001b[0m\u001b[0m\n\u001b[0m\u001b[0;32m      8\u001b[0m     \u001b[0mrfcA\u001b[0m\u001b[1;33m.\u001b[0m\u001b[0mappend\u001b[0m\u001b[1;33m(\u001b[0m\u001b[0mgetScore\u001b[0m\u001b[1;33m(\u001b[0m\u001b[0mrfc\u001b[0m\u001b[1;33m,\u001b[0m\u001b[0mx_train\u001b[0m\u001b[1;33m,\u001b[0m \u001b[0my_train\u001b[0m\u001b[1;33m,\u001b[0m \u001b[0mx_test\u001b[0m\u001b[1;33m,\u001b[0m \u001b[0my_test\u001b[0m\u001b[1;33m)\u001b[0m\u001b[1;33m)\u001b[0m\u001b[1;33m\u001b[0m\u001b[1;33m\u001b[0m\u001b[0m\n\u001b[0;32m      9\u001b[0m     \u001b[0mlrA\u001b[0m\u001b[1;33m.\u001b[0m\u001b[0mappend\u001b[0m\u001b[1;33m(\u001b[0m\u001b[0mgetScore\u001b[0m\u001b[1;33m(\u001b[0m\u001b[0mlr\u001b[0m\u001b[1;33m,\u001b[0m\u001b[0mx_train\u001b[0m\u001b[1;33m,\u001b[0m \u001b[0my_train\u001b[0m\u001b[1;33m,\u001b[0m \u001b[0mx_test\u001b[0m\u001b[1;33m,\u001b[0m \u001b[0my_test\u001b[0m\u001b[1;33m)\u001b[0m\u001b[1;33m)\u001b[0m\u001b[1;33m\u001b[0m\u001b[1;33m\u001b[0m\u001b[0m\n",
      "\u001b[1;32m~\\AppData\\Local\\Temp/ipykernel_1800/403965157.py\u001b[0m in \u001b[0;36mgetScore\u001b[1;34m(model, X_train, y_train, X_test, y_test)\u001b[0m\n\u001b[0;32m      1\u001b[0m \u001b[1;32mdef\u001b[0m \u001b[0mgetScore\u001b[0m\u001b[1;33m(\u001b[0m\u001b[0mmodel\u001b[0m\u001b[1;33m,\u001b[0m \u001b[0mX_train\u001b[0m\u001b[1;33m,\u001b[0m \u001b[0my_train\u001b[0m\u001b[1;33m,\u001b[0m \u001b[0mX_test\u001b[0m\u001b[1;33m,\u001b[0m \u001b[0my_test\u001b[0m\u001b[1;33m)\u001b[0m\u001b[1;33m:\u001b[0m\u001b[1;33m\u001b[0m\u001b[1;33m\u001b[0m\u001b[0m\n\u001b[1;32m----> 2\u001b[1;33m     \u001b[0mmodel\u001b[0m\u001b[1;33m.\u001b[0m\u001b[0mfit\u001b[0m\u001b[1;33m(\u001b[0m\u001b[0mX_train\u001b[0m\u001b[1;33m,\u001b[0m \u001b[0my_train\u001b[0m\u001b[1;33m)\u001b[0m\u001b[1;33m\u001b[0m\u001b[1;33m\u001b[0m\u001b[0m\n\u001b[0m\u001b[0;32m      3\u001b[0m     \u001b[1;32mreturn\u001b[0m \u001b[0mmodel\u001b[0m\u001b[1;33m.\u001b[0m\u001b[0mscore\u001b[0m\u001b[1;33m(\u001b[0m\u001b[0mX_test\u001b[0m\u001b[1;33m,\u001b[0m \u001b[0my_test\u001b[0m\u001b[1;33m)\u001b[0m\u001b[1;33m\u001b[0m\u001b[1;33m\u001b[0m\u001b[0m\n",
      "\u001b[1;32m~\\AppData\\Local\\Programs\\Python\\Python310\\lib\\site-packages\\sklearn\\svm\\_base.py\u001b[0m in \u001b[0;36mfit\u001b[1;34m(self, X, y, sample_weight)\u001b[0m\n\u001b[0;32m    213\u001b[0m \u001b[1;33m\u001b[0m\u001b[0m\n\u001b[0;32m    214\u001b[0m         \u001b[1;32mif\u001b[0m \u001b[0mself\u001b[0m\u001b[1;33m.\u001b[0m\u001b[0mkernel\u001b[0m \u001b[1;33m==\u001b[0m \u001b[1;34m\"precomputed\"\u001b[0m \u001b[1;32mand\u001b[0m \u001b[0mn_samples\u001b[0m \u001b[1;33m!=\u001b[0m \u001b[0mX\u001b[0m\u001b[1;33m.\u001b[0m\u001b[0mshape\u001b[0m\u001b[1;33m[\u001b[0m\u001b[1;36m1\u001b[0m\u001b[1;33m]\u001b[0m\u001b[1;33m:\u001b[0m\u001b[1;33m\u001b[0m\u001b[1;33m\u001b[0m\u001b[0m\n\u001b[1;32m--> 215\u001b[1;33m             raise ValueError(\n\u001b[0m\u001b[0;32m    216\u001b[0m                 \u001b[1;34m\"Precomputed matrix must be a square matrix.\"\u001b[0m\u001b[1;33m\u001b[0m\u001b[1;33m\u001b[0m\u001b[0m\n\u001b[0;32m    217\u001b[0m                 \u001b[1;34m\" Input is a {}x{} matrix.\"\u001b[0m\u001b[1;33m.\u001b[0m\u001b[0mformat\u001b[0m\u001b[1;33m(\u001b[0m\u001b[0mX\u001b[0m\u001b[1;33m.\u001b[0m\u001b[0mshape\u001b[0m\u001b[1;33m[\u001b[0m\u001b[1;36m0\u001b[0m\u001b[1;33m]\u001b[0m\u001b[1;33m,\u001b[0m \u001b[0mX\u001b[0m\u001b[1;33m.\u001b[0m\u001b[0mshape\u001b[0m\u001b[1;33m[\u001b[0m\u001b[1;36m1\u001b[0m\u001b[1;33m]\u001b[0m\u001b[1;33m)\u001b[0m\u001b[1;33m\u001b[0m\u001b[1;33m\u001b[0m\u001b[0m\n",
      "\u001b[1;31mValueError\u001b[0m: Precomputed matrix must be a square matrix. Input is a 1617x64 matrix."
     ]
    }
   ],
   "source": [
    "for train_index, test_index in skf.split(x,y):\n",
    "    x_train, x_test,y_train,y_test = x[train_index],x[test_index],y[train_index],y[test_index]\n",
    "    svcRA.append(getScore(svcR,x_train, y_train, x_test, y_test))\n",
    "    svcPA.append(getScore(svcP,x_train, y_train, x_test, y_test))\n",
    "    svcLA.append(getScore(svcL,x_train, y_train, x_test, y_test))\n",
    "    svcSA.append(getScore(svcS,x_train, y_train, x_test, y_test))\n",
    "    svcPreA.append(getScore(svcPre,x_train, y_train, x_test, y_test))\n",
    "    rfcA.append(getScore(rfc,x_train, y_train, x_test, y_test))\n",
    "    lrA.append(getScore(lr,x_train, y_train, x_test, y_test))"
   ]
  },
  {
   "cell_type": "code",
   "execution_count": null,
   "id": "cbdc2034",
   "metadata": {},
   "outputs": [],
   "source": [
    "mean(svcRA)"
   ]
  },
  {
   "cell_type": "code",
   "execution_count": null,
   "id": "cddf0c6b",
   "metadata": {},
   "outputs": [],
   "source": [
    "mean(svcPA)"
   ]
  },
  {
   "cell_type": "code",
   "execution_count": null,
   "id": "0dda1083",
   "metadata": {},
   "outputs": [],
   "source": [
    "mean(svcLA)"
   ]
  },
  {
   "cell_type": "code",
   "execution_count": null,
   "id": "fc751b04",
   "metadata": {},
   "outputs": [],
   "source": [
    "mean(svcSA)"
   ]
  },
  {
   "cell_type": "code",
   "execution_count": null,
   "id": "ab7c6f89",
   "metadata": {},
   "outputs": [],
   "source": [
    "# mean(svcPreA)"
   ]
  },
  {
   "cell_type": "code",
   "execution_count": null,
   "id": "99ba7e43",
   "metadata": {},
   "outputs": [],
   "source": [
    "mean(rfcA)"
   ]
  },
  {
   "cell_type": "code",
   "execution_count": null,
   "id": "cbab38d4",
   "metadata": {},
   "outputs": [],
   "source": [
    "mean(lrA)"
   ]
  },
  {
   "cell_type": "code",
   "execution_count": null,
   "id": "1b218c92",
   "metadata": {},
   "outputs": [],
   "source": [
    "mean(cross_val_score(svcR, x, y, cv=10))"
   ]
  },
  {
   "cell_type": "code",
   "execution_count": null,
   "id": "72c5f812",
   "metadata": {},
   "outputs": [],
   "source": [
    "mean(cross_val_score(svcP, x, y, cv=10))"
   ]
  },
  {
   "cell_type": "code",
   "execution_count": null,
   "id": "064a4df4",
   "metadata": {},
   "outputs": [],
   "source": [
    "mean(cross_val_score(svcL, x, y, cv=10))"
   ]
  },
  {
   "cell_type": "code",
   "execution_count": null,
   "id": "fe565c52",
   "metadata": {},
   "outputs": [],
   "source": [
    "mean(cross_val_score(svcS, x, y, cv=10))"
   ]
  },
  {
   "cell_type": "code",
   "execution_count": null,
   "id": "a3a1b422",
   "metadata": {},
   "outputs": [],
   "source": [
    "# mean(cross_val_score(svcPre, x, y, cv=10))"
   ]
  },
  {
   "cell_type": "code",
   "execution_count": null,
   "id": "c9c0dcdb",
   "metadata": {},
   "outputs": [],
   "source": [
    "mean(cross_val_score(rfc, x, y, cv=10))"
   ]
  },
  {
   "cell_type": "code",
   "execution_count": null,
   "id": "a04d56b3",
   "metadata": {},
   "outputs": [],
   "source": [
    "mean(cross_val_score(lr, x, y, cv=10))"
   ]
  },
  {
   "cell_type": "code",
   "execution_count": null,
   "id": "ae82328d",
   "metadata": {},
   "outputs": [],
   "source": []
  }
 ],
 "metadata": {
  "kernelspec": {
   "display_name": "Python 3 (ipykernel)",
   "language": "python",
   "name": "python3"
  },
  "language_info": {
   "codemirror_mode": {
    "name": "ipython",
    "version": 3
   },
   "file_extension": ".py",
   "mimetype": "text/x-python",
   "name": "python",
   "nbconvert_exporter": "python",
   "pygments_lexer": "ipython3",
   "version": "3.10.1"
  }
 },
 "nbformat": 4,
 "nbformat_minor": 5
}
