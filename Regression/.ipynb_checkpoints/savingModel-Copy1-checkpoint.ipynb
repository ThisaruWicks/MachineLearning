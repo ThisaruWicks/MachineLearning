{
 "cells": [
  {
   "cell_type": "raw",
   "id": "9ce72842",
   "metadata": {},
   "source": [
    "https://scikit-learn.org/stable/model_persistence.html"
   ]
  },
  {
   "cell_type": "code",
   "execution_count": 9,
   "id": "6bd5d51c",
   "metadata": {},
   "outputs": [],
   "source": [
    "import pandas as pd\n",
    "from sklearn import svm\n",
    "import pickle\n",
    "from joblib import dump, load"
   ]
  },
  {
   "cell_type": "code",
   "execution_count": 10,
   "id": "4d273294",
   "metadata": {},
   "outputs": [
    {
     "data": {
      "text/plain": [
       "SVR(C=2.0, kernel='linear')"
      ]
     },
     "execution_count": 10,
     "metadata": {},
     "output_type": "execute_result"
    }
   ],
   "source": [
    "df = pd.read_csv(\"data.csv\")\n",
    "regr = svm.SVR(kernel = 'linear', C = 2.0)\n",
    "regr.fit(df[['area']], df.price)"
   ]
  },
  {
   "cell_type": "code",
   "execution_count": 4,
   "id": "1166276c",
   "metadata": {},
   "outputs": [],
   "source": [
    "with open(\"linear_svm_model\",\"wb\") as f:\n",
    "    pickle.dump(regr,f)"
   ]
  },
  {
   "cell_type": "code",
   "execution_count": 5,
   "id": "f999c9d4",
   "metadata": {},
   "outputs": [],
   "source": [
    "with open(\"linear_svm_model\",\"rb\") as model:\n",
    "    data=pickle.load(model)\n",
    "    "
   ]
  },
  {
   "cell_type": "code",
   "execution_count": 7,
   "id": "1f76494f",
   "metadata": {},
   "outputs": [
    {
     "name": "stderr",
     "output_type": "stream",
     "text": [
      "C:\\Users\\Asus\\AppData\\Local\\Programs\\Python\\Python310\\lib\\site-packages\\sklearn\\base.py:445: UserWarning: X does not have valid feature names, but SVR was fitted with feature names\n",
      "  warnings.warn(\n"
     ]
    },
    {
     "data": {
      "text/plain": [
       "array([43.80980843])"
      ]
     },
     "execution_count": 7,
     "metadata": {},
     "output_type": "execute_result"
    }
   ],
   "source": [
    "data.predict([[872]])"
   ]
  },
  {
   "cell_type": "code",
   "execution_count": 11,
   "id": "14a86089",
   "metadata": {},
   "outputs": [
    {
     "data": {
      "text/plain": [
       "['linear_svm_model_joblib']"
      ]
     },
     "execution_count": 11,
     "metadata": {},
     "output_type": "execute_result"
    }
   ],
   "source": [
    "dump(regr,'linear_svm_model_joblib')"
   ]
  },
  {
   "cell_type": "code",
   "execution_count": 12,
   "id": "6498e1a5",
   "metadata": {},
   "outputs": [
    {
     "name": "stderr",
     "output_type": "stream",
     "text": [
      "C:\\Users\\Asus\\AppData\\Local\\Programs\\Python\\Python310\\lib\\site-packages\\sklearn\\base.py:445: UserWarning: X does not have valid feature names, but SVR was fitted with feature names\n",
      "  warnings.warn(\n"
     ]
    },
    {
     "data": {
      "text/plain": [
       "array([43.80980843])"
      ]
     },
     "execution_count": 12,
     "metadata": {},
     "output_type": "execute_result"
    }
   ],
   "source": [
    "data_joblib=load('linear_svm_model_joblib')\n",
    "data_joblib.predict([[872]])"
   ]
  },
  {
   "cell_type": "code",
   "execution_count": null,
   "id": "e245fe0c",
   "metadata": {},
   "outputs": [],
   "source": []
  }
 ],
 "metadata": {
  "kernelspec": {
   "display_name": "Python 3 (ipykernel)",
   "language": "python",
   "name": "python3"
  },
  "language_info": {
   "codemirror_mode": {
    "name": "ipython",
    "version": 3
   },
   "file_extension": ".py",
   "mimetype": "text/x-python",
   "name": "python",
   "nbconvert_exporter": "python",
   "pygments_lexer": "ipython3",
   "version": "3.10.1"
  }
 },
 "nbformat": 4,
 "nbformat_minor": 5
}
