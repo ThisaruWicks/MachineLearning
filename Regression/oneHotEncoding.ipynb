{
 "cells": [
  {
   "cell_type": "code",
   "execution_count": 80,
   "id": "394a47a3",
   "metadata": {},
   "outputs": [],
   "source": [
    "import pandas as pd\n",
    "from sklearn.preprocessing import LabelEncoder,OneHotEncoder\n",
    "from sklearn import svm"
   ]
  },
  {
   "cell_type": "code",
   "execution_count": 81,
   "id": "9dcd7a27",
   "metadata": {},
   "outputs": [],
   "source": [
    "df = pd.read_csv(\"data.csv\")"
   ]
  },
  {
   "cell_type": "code",
   "execution_count": 82,
   "id": "576b6f36",
   "metadata": {},
   "outputs": [],
   "source": [
    "le = LabelEncoder()"
   ]
  },
  {
   "cell_type": "code",
   "execution_count": 83,
   "id": "6191296c",
   "metadata": {},
   "outputs": [],
   "source": [
    "dfLableEncoder = df"
   ]
  },
  {
   "cell_type": "code",
   "execution_count": 84,
   "id": "3dc33be9",
   "metadata": {},
   "outputs": [],
   "source": [
    "dfLableEncoder.status = le.fit_transform(dfLableEncoder.status)"
   ]
  },
  {
   "cell_type": "code",
   "execution_count": 85,
   "id": "bf55406d",
   "metadata": {},
   "outputs": [
    {
     "data": {
      "text/plain": [
       "array([137, 136,  82, ..., 171, 171, 171])"
      ]
     },
     "execution_count": 85,
     "metadata": {},
     "output_type": "execute_result"
    }
   ],
   "source": [
    "le.fit_transform(dfLableEncoder.location)"
   ]
  },
  {
   "cell_type": "code",
   "execution_count": 86,
   "id": "e99d4176",
   "metadata": {},
   "outputs": [
    {
     "data": {
      "text/html": [
       "<div>\n",
       "<style scoped>\n",
       "    .dataframe tbody tr th:only-of-type {\n",
       "        vertical-align: middle;\n",
       "    }\n",
       "\n",
       "    .dataframe tbody tr th {\n",
       "        vertical-align: top;\n",
       "    }\n",
       "\n",
       "    .dataframe thead th {\n",
       "        text-align: right;\n",
       "    }\n",
       "</style>\n",
       "<table border=\"1\" class=\"dataframe\">\n",
       "  <thead>\n",
       "    <tr style=\"text-align: right;\">\n",
       "      <th></th>\n",
       "      <th>price</th>\n",
       "      <th>area</th>\n",
       "      <th>status</th>\n",
       "      <th>bhk</th>\n",
       "      <th>bathroom</th>\n",
       "      <th>age</th>\n",
       "      <th>location</th>\n",
       "      <th>builder</th>\n",
       "    </tr>\n",
       "  </thead>\n",
       "  <tbody>\n",
       "    <tr>\n",
       "      <th>0</th>\n",
       "      <td>37.49</td>\n",
       "      <td>872</td>\n",
       "      <td>0</td>\n",
       "      <td>2</td>\n",
       "      <td>NaN</td>\n",
       "      <td>1.0</td>\n",
       "      <td>Sembakkam</td>\n",
       "      <td>MP Developers</td>\n",
       "    </tr>\n",
       "    <tr>\n",
       "      <th>1</th>\n",
       "      <td>93.54</td>\n",
       "      <td>1346</td>\n",
       "      <td>1</td>\n",
       "      <td>3</td>\n",
       "      <td>2.0</td>\n",
       "      <td>NaN</td>\n",
       "      <td>Selaiyur</td>\n",
       "      <td>DAC Promoters</td>\n",
       "    </tr>\n",
       "    <tr>\n",
       "      <th>2</th>\n",
       "      <td>151.00</td>\n",
       "      <td>2225</td>\n",
       "      <td>1</td>\n",
       "      <td>3</td>\n",
       "      <td>NaN</td>\n",
       "      <td>0.0</td>\n",
       "      <td>Mogappair</td>\n",
       "      <td>Casagrand Builder Private Limited</td>\n",
       "    </tr>\n",
       "    <tr>\n",
       "      <th>3</th>\n",
       "      <td>49.00</td>\n",
       "      <td>1028</td>\n",
       "      <td>0</td>\n",
       "      <td>2</td>\n",
       "      <td>2.0</td>\n",
       "      <td>3.0</td>\n",
       "      <td>Ambattur</td>\n",
       "      <td>Dugar Housing Builders</td>\n",
       "    </tr>\n",
       "    <tr>\n",
       "      <th>4</th>\n",
       "      <td>42.28</td>\n",
       "      <td>588</td>\n",
       "      <td>1</td>\n",
       "      <td>2</td>\n",
       "      <td>1.0</td>\n",
       "      <td>0.0</td>\n",
       "      <td>Pallavaram</td>\n",
       "      <td>Radiance Realty Developers India Ltd</td>\n",
       "    </tr>\n",
       "    <tr>\n",
       "      <th>...</th>\n",
       "      <td>...</td>\n",
       "      <td>...</td>\n",
       "      <td>...</td>\n",
       "      <td>...</td>\n",
       "      <td>...</td>\n",
       "      <td>...</td>\n",
       "      <td>...</td>\n",
       "      <td>...</td>\n",
       "    </tr>\n",
       "    <tr>\n",
       "      <th>2615</th>\n",
       "      <td>27.50</td>\n",
       "      <td>750</td>\n",
       "      <td>0</td>\n",
       "      <td>2</td>\n",
       "      <td>2.0</td>\n",
       "      <td>3.0</td>\n",
       "      <td>Veppampattu</td>\n",
       "      <td>Velan Housing Properties</td>\n",
       "    </tr>\n",
       "    <tr>\n",
       "      <th>2616</th>\n",
       "      <td>27.50</td>\n",
       "      <td>750</td>\n",
       "      <td>0</td>\n",
       "      <td>2</td>\n",
       "      <td>2.0</td>\n",
       "      <td>3.0</td>\n",
       "      <td>Veppampattu</td>\n",
       "      <td>Velan Housing Properties</td>\n",
       "    </tr>\n",
       "    <tr>\n",
       "      <th>2617</th>\n",
       "      <td>30.00</td>\n",
       "      <td>800</td>\n",
       "      <td>0</td>\n",
       "      <td>2</td>\n",
       "      <td>2.0</td>\n",
       "      <td>3.0</td>\n",
       "      <td>Veppampattu</td>\n",
       "      <td>Velan Housing Properties</td>\n",
       "    </tr>\n",
       "    <tr>\n",
       "      <th>2618</th>\n",
       "      <td>31.50</td>\n",
       "      <td>850</td>\n",
       "      <td>0</td>\n",
       "      <td>2</td>\n",
       "      <td>2.0</td>\n",
       "      <td>3.0</td>\n",
       "      <td>Veppampattu</td>\n",
       "      <td>Velan Housing Properties</td>\n",
       "    </tr>\n",
       "    <tr>\n",
       "      <th>2619</th>\n",
       "      <td>34.00</td>\n",
       "      <td>900</td>\n",
       "      <td>0</td>\n",
       "      <td>2</td>\n",
       "      <td>2.0</td>\n",
       "      <td>3.0</td>\n",
       "      <td>Veppampattu</td>\n",
       "      <td>Velan Housing Properties</td>\n",
       "    </tr>\n",
       "  </tbody>\n",
       "</table>\n",
       "<p>2620 rows × 8 columns</p>\n",
       "</div>"
      ],
      "text/plain": [
       "       price  area  status  bhk  bathroom  age     location  \\\n",
       "0      37.49   872       0    2       NaN  1.0    Sembakkam   \n",
       "1      93.54  1346       1    3       2.0  NaN     Selaiyur   \n",
       "2     151.00  2225       1    3       NaN  0.0    Mogappair   \n",
       "3      49.00  1028       0    2       2.0  3.0     Ambattur   \n",
       "4      42.28   588       1    2       1.0  0.0   Pallavaram   \n",
       "...      ...   ...     ...  ...       ...  ...          ...   \n",
       "2615   27.50   750       0    2       2.0  3.0  Veppampattu   \n",
       "2616   27.50   750       0    2       2.0  3.0  Veppampattu   \n",
       "2617   30.00   800       0    2       2.0  3.0  Veppampattu   \n",
       "2618   31.50   850       0    2       2.0  3.0  Veppampattu   \n",
       "2619   34.00   900       0    2       2.0  3.0  Veppampattu   \n",
       "\n",
       "                                   builder  \n",
       "0                            MP Developers  \n",
       "1                            DAC Promoters  \n",
       "2        Casagrand Builder Private Limited  \n",
       "3                   Dugar Housing Builders  \n",
       "4     Radiance Realty Developers India Ltd  \n",
       "...                                    ...  \n",
       "2615              Velan Housing Properties  \n",
       "2616              Velan Housing Properties  \n",
       "2617              Velan Housing Properties  \n",
       "2618              Velan Housing Properties  \n",
       "2619              Velan Housing Properties  \n",
       "\n",
       "[2620 rows x 8 columns]"
      ]
     },
     "execution_count": 86,
     "metadata": {},
     "output_type": "execute_result"
    }
   ],
   "source": [
    "dfLableEncoder"
   ]
  },
  {
   "cell_type": "code",
   "execution_count": 87,
   "id": "c451be66",
   "metadata": {},
   "outputs": [
    {
     "data": {
      "text/plain": [
       "array([2225,    3,    1], dtype=int64)"
      ]
     },
     "execution_count": 87,
     "metadata": {},
     "output_type": "execute_result"
    }
   ],
   "source": [
    "x = dfLableEncoder[['area','bhk','status']].values\n",
    "y = dfLableEncoder[['price']]\n",
    "x[2]"
   ]
  },
  {
   "cell_type": "code",
   "execution_count": 88,
   "id": "0aa7a2f5",
   "metadata": {},
   "outputs": [
    {
     "data": {
      "text/plain": [
       "0       0\n",
       "1       1\n",
       "2       1\n",
       "3       0\n",
       "4       1\n",
       "       ..\n",
       "2615    0\n",
       "2616    0\n",
       "2617    0\n",
       "2618    0\n",
       "2619    0\n",
       "Name: status, Length: 2620, dtype: int32"
      ]
     },
     "execution_count": 88,
     "metadata": {},
     "output_type": "execute_result"
    }
   ],
   "source": [
    "dfLableEncoder.status"
   ]
  },
  {
   "cell_type": "code",
   "execution_count": 89,
   "id": "4dbcbecf",
   "metadata": {},
   "outputs": [],
   "source": [
    "ohe = OneHotEncoder()"
   ]
  },
  {
   "cell_type": "code",
   "execution_count": 90,
   "id": "03f4efcd",
   "metadata": {},
   "outputs": [],
   "source": [
    "fd = ohe.fit_transform(dfLableEncoder[[\"status\"]]).toarray()"
   ]
  },
  {
   "cell_type": "code",
   "execution_count": 91,
   "id": "a530b228",
   "metadata": {},
   "outputs": [
    {
     "data": {
      "text/plain": [
       "array([[1., 0.],\n",
       "       [0., 1.],\n",
       "       [0., 1.],\n",
       "       ...,\n",
       "       [1., 0.],\n",
       "       [1., 0.],\n",
       "       [1., 0.]])"
      ]
     },
     "execution_count": 91,
     "metadata": {},
     "output_type": "execute_result"
    }
   ],
   "source": [
    "fd"
   ]
  },
  {
   "cell_type": "code",
   "execution_count": 92,
   "id": "cdffe3d5",
   "metadata": {},
   "outputs": [],
   "source": [
    "fd = fd[:,1:]"
   ]
  },
  {
   "cell_type": "code",
   "execution_count": 93,
   "id": "03c4bfe2",
   "metadata": {},
   "outputs": [
    {
     "data": {
      "text/plain": [
       "array([[0.],\n",
       "       [1.],\n",
       "       [1.],\n",
       "       ...,\n",
       "       [0.],\n",
       "       [0.],\n",
       "       [0.]])"
      ]
     },
     "execution_count": 93,
     "metadata": {},
     "output_type": "execute_result"
    }
   ],
   "source": [
    "fd"
   ]
  },
  {
   "cell_type": "code",
   "execution_count": 94,
   "id": "2a0b93ce",
   "metadata": {},
   "outputs": [
    {
     "data": {
      "text/plain": [
       "SVR(kernel='linear')"
      ]
     },
     "execution_count": 94,
     "metadata": {},
     "output_type": "execute_result"
    }
   ],
   "source": [
    "regr = svm.SVR(kernel = 'linear', C = 1.0)\n",
    "regr.fit(fd, df.price)"
   ]
  },
  {
   "cell_type": "code",
   "execution_count": 96,
   "id": "31c71449",
   "metadata": {},
   "outputs": [
    {
     "data": {
      "text/plain": [
       "-0.08605091347518057"
      ]
     },
     "execution_count": 96,
     "metadata": {},
     "output_type": "execute_result"
    }
   ],
   "source": [
    "regr.score(fd, df.price)"
   ]
  },
  {
   "cell_type": "code",
   "execution_count": null,
   "id": "806f69ce",
   "metadata": {},
   "outputs": [],
   "source": []
  }
 ],
 "metadata": {
  "kernelspec": {
   "display_name": "Python 3 (ipykernel)",
   "language": "python",
   "name": "python3"
  },
  "language_info": {
   "codemirror_mode": {
    "name": "ipython",
    "version": 3
   },
   "file_extension": ".py",
   "mimetype": "text/x-python",
   "name": "python",
   "nbconvert_exporter": "python",
   "pygments_lexer": "ipython3",
   "version": "3.10.1"
  }
 },
 "nbformat": 4,
 "nbformat_minor": 5
}
