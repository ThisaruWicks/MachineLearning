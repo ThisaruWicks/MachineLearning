{
 "cells": [
  {
   "cell_type": "code",
   "execution_count": 208,
   "id": "bdb77ec7",
   "metadata": {},
   "outputs": [],
   "source": [
    "from sklearn.cluster import KMeans\n",
    "import numpy as np\n",
    "import pandas as pd\n",
    "\n",
    "from sklearn import datasets\n",
    "import matplotlib.pyplot as plt\n",
    "from sklearn.metrics import accuracy_score\n",
    "\n",
    "from kneed import KneeLocator"
   ]
  },
  {
   "cell_type": "code",
   "execution_count": 209,
   "id": "b6a237d2",
   "metadata": {},
   "outputs": [],
   "source": [
    "iris = datasets.load_iris()"
   ]
  },
  {
   "cell_type": "code",
   "execution_count": 210,
   "id": "3bd320d8",
   "metadata": {},
   "outputs": [],
   "source": [
    "df1 = pd.DataFrame(iris.data , columns = iris.feature_names)\n",
    "df2 = pd.DataFrame(iris.target, columns = ['Target'] )\n",
    "df = pd.concat([df1,df2 ] ,axis = 'columns' )\n",
    "df_petal = df.drop(['sepal length (cm)', 'sepal width (cm)'], axis = 'columns')\n",
    "df_sepal = df.drop(['petal length (cm)', 'petal width (cm)'], axis = 'columns') \n"
   ]
  },
  {
   "cell_type": "code",
   "execution_count": 211,
   "id": "043d3805",
   "metadata": {},
   "outputs": [],
   "source": [
    "setosa_petal_df = df_petal[df_petal.Target == 0]\n",
    "versicolor_petal_df = df_petal[df_petal.Target == 1]\n",
    "virginica_petal_df = df_petal[df_petal.Target == 2]"
   ]
  },
  {
   "cell_type": "code",
   "execution_count": 212,
   "id": "ddd0167d",
   "metadata": {},
   "outputs": [
    {
     "data": {
      "text/plain": [
       "<matplotlib.collections.PathCollection at 0x180e83aa740>"
      ]
     },
     "execution_count": 212,
     "metadata": {},
     "output_type": "execute_result"
    },
    {
     "data": {
      "image/png": "[encoded data removed]",
      "text/plain": [
       "<Figure size 432x288 with 1 Axes>"
      ]
     },
     "metadata": {
      "needs_background": "light"
     },
     "output_type": "display_data"
    }
   ],
   "source": [
    "plt.scatter(setosa_petal_df['petal length (cm)'], setosa_petal_df['petal width (cm)'], color = 'green')\n",
    "plt.scatter(versicolor_petal_df['petal length (cm)'], versicolor_petal_df['petal width (cm)'], color = 'blue')\n",
    "plt.scatter(virginica_petal_df['petal length (cm)'], virginica_petal_df['petal width (cm)'], color = 'red')"
   ]
  },
  {
   "cell_type": "code",
   "execution_count": 213,
   "id": "d4107341",
   "metadata": {},
   "outputs": [
    {
     "data": {
      "text/plain": [
       "<matplotlib.collections.PathCollection at 0x180e8419750>"
      ]
     },
     "execution_count": 213,
     "metadata": {},
     "output_type": "execute_result"
    },
    {
     "data": {
      "image/png": "[encoded data removed]",
      "text/plain": [
       "<Figure size 432x288 with 1 Axes>"
      ]
     },
     "metadata": {
      "needs_background": "light"
     },
     "output_type": "display_data"
    }
   ],
   "source": [
    "plt.scatter(df_petal['petal length (cm)'], df_petal['petal width (cm)'])"
   ]
  },
  {
   "cell_type": "code",
   "execution_count": 214,
   "id": "036788db",
   "metadata": {},
   "outputs": [
    {
     "data": {
      "text/plain": [
       "array(['setosa', 'versicolor', 'virginica'], dtype='<U10')"
      ]
     },
     "execution_count": 214,
     "metadata": {},
     "output_type": "execute_result"
    }
   ],
   "source": [
    "iris.target_names"
   ]
  },
  {
   "cell_type": "markdown",
   "id": "f88cf429",
   "metadata": {},
   "source": [
    "### Petal"
   ]
  },
  {
   "cell_type": "code",
   "execution_count": 215,
   "id": "ca5f628f",
   "metadata": {},
   "outputs": [],
   "source": [
    "df_petal_data = df_petal.drop('Target', axis = 'columns')"
   ]
  },
  {
   "cell_type": "code",
   "execution_count": 216,
   "id": "001f0d10",
   "metadata": {},
   "outputs": [],
   "source": [
    "petal_yPred= KMeans(n_clusters=3, random_state=0).fit_predict(df_petal_data)"
   ]
  },
  {
   "cell_type": "code",
   "execution_count": 217,
   "id": "8f5707e5",
   "metadata": {},
   "outputs": [],
   "source": [
    "# accuracy_score(df_petal.Target, petal_yPred)"
   ]
  },
  {
   "cell_type": "code",
   "execution_count": 218,
   "id": "b7dead7c",
   "metadata": {},
   "outputs": [
    {
     "data": {
      "text/plain": [
       "array([0, 0, 0, 0, 0, 0, 0, 0, 0, 0, 0, 0, 0, 0, 0, 0, 0, 0, 0, 0, 0, 0,\n",
       "       0, 0, 0, 0, 0, 0, 0, 0, 0, 0, 0, 0, 0, 0, 0, 0, 0, 0, 0, 0, 0, 0,\n",
       "       0, 0, 0, 0, 0, 0, 2, 2, 2, 2, 2, 2, 2, 2, 2, 2, 2, 2, 2, 2, 2, 2,\n",
       "       2, 2, 2, 2, 2, 2, 2, 2, 2, 2, 2, 1, 2, 2, 2, 2, 2, 1, 2, 2, 2, 2,\n",
       "       2, 2, 2, 2, 2, 2, 2, 2, 2, 2, 2, 2, 1, 1, 1, 1, 1, 1, 2, 1, 1, 1,\n",
       "       1, 1, 1, 1, 1, 1, 1, 1, 1, 2, 1, 1, 1, 1, 1, 1, 2, 1, 1, 1, 1, 1,\n",
       "       1, 1, 1, 1, 1, 1, 2, 1, 1, 1, 1, 1, 1, 1, 1, 1, 1, 1])"
      ]
     },
     "execution_count": 218,
     "metadata": {},
     "output_type": "execute_result"
    }
   ],
   "source": [
    "petal_yPred"
   ]
  },
  {
   "cell_type": "code",
   "execution_count": 219,
   "id": "ef529114",
   "metadata": {},
   "outputs": [
    {
     "data": {
      "text/plain": [
       "Target    52\n",
       "dtype: int64"
      ]
     },
     "execution_count": 219,
     "metadata": {},
     "output_type": "execute_result"
    }
   ],
   "source": [
    "count_df = pd.DataFrame(petal_yPred, columns = ['Target'] )\n",
    "count_df[count_df.Target == 2].count() "
   ]
  },
  {
   "cell_type": "code",
   "execution_count": 220,
   "id": "a9bb3419",
   "metadata": {},
   "outputs": [],
   "source": [
    "sse = []\n",
    "k_range = range(1,10)\n",
    "for k in k_range:\n",
    "    km = KMeans(n_clusters=k)\n",
    "    km.fit(df_petal_data)\n",
    "    sse.append(km.inertia_)"
   ]
  },
  {
   "cell_type": "code",
   "execution_count": 221,
   "id": "36538eec",
   "metadata": {},
   "outputs": [
    {
     "data": {
      "text/plain": [
       "[550.8953333333333,\n",
       " 86.39021984551397,\n",
       " 31.371358974358973,\n",
       " 19.48300089968511,\n",
       " 13.916908757908757,\n",
       " 11.068446431864281,\n",
       " 9.321390756302522,\n",
       " 7.698178764259328,\n",
       " 6.840906936201054]"
      ]
     },
     "execution_count": 221,
     "metadata": {},
     "output_type": "execute_result"
    }
   ],
   "source": [
    "sse"
   ]
  },
  {
   "cell_type": "code",
   "execution_count": 222,
   "id": "00ffa6c0",
   "metadata": {},
   "outputs": [
    {
     "data": {
      "text/plain": [
       "[<matplotlib.lines.Line2D at 0x180e848e140>]"
      ]
     },
     "execution_count": 222,
     "metadata": {},
     "output_type": "execute_result"
    },
    {
     "data": {
      "image/png": "[encoded data removed]",
      "text/plain": [
       "<Figure size 432x288 with 1 Axes>"
      ]
     },
     "metadata": {
      "needs_background": "light"
     },
     "output_type": "display_data"
    }
   ],
   "source": [
    "plt.xlabel(\"k\")\n",
    "plt.ylabel(\"sse\")\n",
    "plt.plot(k_range, sse)"
   ]
  },
  {
   "cell_type": "markdown",
   "id": "1c984b5c",
   "metadata": {},
   "source": [
    "### Sepal"
   ]
  },
  {
   "cell_type": "code",
   "execution_count": 223,
   "id": "efc3cb2d",
   "metadata": {},
   "outputs": [],
   "source": [
    "df_sepal_data = df_petal.drop('Target', axis = 'columns')"
   ]
  },
  {
   "cell_type": "code",
   "execution_count": 224,
   "id": "f61173b6",
   "metadata": {},
   "outputs": [],
   "source": [
    "sepal_yPred= KMeans(n_clusters=3, random_state=0).fit_predict(df_sepal_data)"
   ]
  },
  {
   "cell_type": "code",
   "execution_count": 225,
   "id": "1291433b",
   "metadata": {},
   "outputs": [
    {
     "data": {
      "text/plain": [
       "Target    52\n",
       "dtype: int64"
      ]
     },
     "execution_count": 225,
     "metadata": {},
     "output_type": "execute_result"
    }
   ],
   "source": [
    "count_df = pd.DataFrame(sepal_yPred, columns = ['Target'] )\n",
    "count_df[count_df.Target == 2].count() "
   ]
  },
  {
   "cell_type": "code",
   "execution_count": 226,
   "id": "cd4f6540",
   "metadata": {},
   "outputs": [],
   "source": [
    "sse = []\n",
    "k_range = range(1,10)\n",
    "for k in k_range:\n",
    "    km = KMeans(n_clusters=k)\n",
    "    km.fit(df_sepal_data)\n",
    "    sse.append(km.inertia_)"
   ]
  },
  {
   "cell_type": "code",
   "execution_count": 227,
   "id": "4da011e1",
   "metadata": {},
   "outputs": [
    {
     "data": {
      "text/plain": [
       "[<matplotlib.lines.Line2D at 0x180e84f2830>]"
      ]
     },
     "execution_count": 227,
     "metadata": {},
     "output_type": "execute_result"
    },
    {
     "data": {
      "image/png": "[encoded data removed]",
      "text/plain": [
       "<Figure size 432x288 with 1 Axes>"
      ]
     },
     "metadata": {
      "needs_background": "light"
     },
     "output_type": "display_data"
    }
   ],
   "source": [
    "plt.xlabel(\"k\")\n",
    "plt.ylabel(\"sse\")\n",
    "plt.plot(k_range, sse)"
   ]
  },
  {
   "cell_type": "code",
   "execution_count": 228,
   "id": "b3d0404f",
   "metadata": {},
   "outputs": [
    {
     "data": {
      "text/plain": [
       "2"
      ]
     },
     "execution_count": 228,
     "metadata": {},
     "output_type": "execute_result"
    }
   ],
   "source": [
    "kl = KneeLocator(k_range,sse, curve=\"convex\", direction=\"decreasing\")\n",
    "kl.elbow"
   ]
  },
  {
   "cell_type": "code",
   "execution_count": 229,
   "id": "6209dbe1",
   "metadata": {},
   "outputs": [],
   "source": [
    "sse = []\n",
    "k_range = range(1,10)\n",
    "for k in k_range:\n",
    "    km = KMeans(n_clusters=k)\n",
    "    km.fit(setosa_petal_df.drop('Target', axis = 'columns'))\n",
    "    sse.append(km.inertia_)"
   ]
  },
  {
   "cell_type": "code",
   "execution_count": 230,
   "id": "7ab6b4ad",
   "metadata": {},
   "outputs": [
    {
     "data": {
      "text/plain": [
       "[<matplotlib.lines.Line2D at 0x180e855ae60>]"
      ]
     },
     "execution_count": 230,
     "metadata": {},
     "output_type": "execute_result"
    },
    {
     "data": {
      "image/png": "[encoded data removed]",
      "text/plain": [
       "<Figure size 432x288 with 1 Axes>"
      ]
     },
     "metadata": {
      "needs_background": "light"
     },
     "output_type": "display_data"
    }
   ],
   "source": [
    "plt.xlabel(\"k\")\n",
    "plt.ylabel(\"sse\")\n",
    "plt.plot(k_range, sse)"
   ]
  },
  {
   "cell_type": "code",
   "execution_count": 231,
   "id": "4869803f",
   "metadata": {},
   "outputs": [
    {
     "data": {
      "text/plain": [
       "3"
      ]
     },
     "execution_count": 231,
     "metadata": {},
     "output_type": "execute_result"
    }
   ],
   "source": [
    "kl = KneeLocator(k_range,sse, curve=\"convex\", direction=\"decreasing\")\n",
    "kl.elbow"
   ]
  }
 ],
 "metadata": {
  "kernelspec": {
   "display_name": "Python 3 (ipykernel)",
   "language": "python",
   "name": "python3"
  },
  "language_info": {
   "codemirror_mode": {
    "name": "ipython",
    "version": 3
   },
   "file_extension": ".py",
   "mimetype": "text/x-python",
   "name": "python",
   "nbconvert_exporter": "python",
   "pygments_lexer": "ipython3",
   "version": "3.10.1"
  }
 },
 "nbformat": 4,
 "nbformat_minor": 5
}
